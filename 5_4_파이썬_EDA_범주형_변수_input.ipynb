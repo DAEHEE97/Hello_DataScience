{
 "cells": [
  {
   "cell_type": "markdown",
   "metadata": {},
   "source": [
    "# 범주형 변수의 EDA ( 탐색적 데이터 분석 )"
   ]
  },
  {
   "cell_type": "markdown",
   "metadata": {},
   "source": [
    "## 1.범주형 변수의 기술통계\n",
    "\n",
    "범주형 변수의 기술통계에 대해 알아봅니다. 수치 데이터와 범주형 데이터의 차이를 이해합니다.\n",
    "\n",
    "범주형 변수의 기술통계를 구하면 다음의 항목에 대한 기술 통계를 보여줍니다.\n",
    "\n",
    "- 빈도수(count)\n",
    "- 유일값(unique)\n",
    "- 결측치(isnull, isna)\n",
    "- 최빈값(top), 최빈값의 빈도수(freq)\n",
    "- describe(include=\"object\")"
   ]
  },
  {
   "cell_type": "markdown",
   "metadata": {
    "id": "WPFdZTOdTz5f"
   },
   "source": [
    "### 1.1 라이브러리 로드"
   ]
  },
  {
   "cell_type": "code",
   "execution_count": null,
   "metadata": {
    "id": "Oh_YHv1nTz5i"
   },
   "outputs": [],
   "source": [
    "# 데이터 분석을 위한 pandas 라이브러리를 불러옵니다.\n",
    "# 수치계산을 위한 numpy를 불러옵니다.\n",
    "# 데이터 시각화를 위한 matplotlib, seaborn 을 불러옵니다.\n",
    "\n",
    "import pandas as pd\n",
    "import numpy as np\n",
    "import matplotlib.pyplot as plt\n",
    "import seaborn as sns"
   ]
  },
  {
   "cell_type": "code",
   "execution_count": null,
   "metadata": {
    "id": "fRiMO726Tz5k",
    "scrolled": true
   },
   "outputs": [],
   "source": [
    "print(pd.__version__)\n",
    "print(sns.__version__)"
   ]
  },
  {
   "cell_type": "code",
   "execution_count": null,
   "metadata": {
    "id": "yGUgupLdTz5k"
   },
   "outputs": [],
   "source": [
    "# 0.11.0 버전에서 변화가 많으니 이 버전 이상을 사용해 주세요. \n",
    "# !pip install seaborn --upgrade"
   ]
  },
  {
   "cell_type": "markdown",
   "metadata": {
    "id": "Z6L0eIjzTz5l"
   },
   "source": [
    "### 1.2 데이터셋 불러오기"
   ]
  },
  {
   "cell_type": "code",
   "execution_count": null,
   "metadata": {
    "id": "EmSZx5-UTz5l"
   },
   "outputs": [],
   "source": [
    "# mpg 데이터셋을 불러옵니다.\n",
    "# df\n",
    "\n",
    "df = sns.load_dataset(\"mpg\")\n",
    "df.shape\n"
   ]
  },
  {
   "cell_type": "markdown",
   "metadata": {
    "id": "CkMeEuPdTz5l"
   },
   "source": [
    "### 1.3 데이터셋 일부만 가져오기"
   ]
  },
  {
   "cell_type": "code",
   "execution_count": null,
   "metadata": {
    "id": "ugFSWS9NTz5m",
    "scrolled": true
   },
   "outputs": [],
   "source": [
    "# head\n",
    "df.head()"
   ]
  },
  {
   "cell_type": "code",
   "execution_count": null,
   "metadata": {
    "id": "vbuzFd6JTz5m"
   },
   "outputs": [],
   "source": [
    "# tail\n",
    "df.tail()"
   ]
  },
  {
   "cell_type": "markdown",
   "metadata": {
    "id": "8owR5sCsTz5m"
   },
   "source": [
    "### 1.4 요약하기"
   ]
  },
  {
   "cell_type": "code",
   "execution_count": null,
   "metadata": {
    "id": "27BCubiqTz5n"
   },
   "outputs": [],
   "source": [
    "df.info()"
   ]
  },
  {
   "cell_type": "markdown",
   "metadata": {
    "id": "Mf7kgW3PTz5n"
   },
   "source": [
    "### 1.5  결측치 보기"
   ]
  },
  {
   "cell_type": "code",
   "execution_count": null,
   "metadata": {
    "id": "k2TMa7lBTz5n"
   },
   "outputs": [],
   "source": [
    "df"
   ]
  },
  {
   "cell_type": "markdown",
   "metadata": {
    "id": "xw2IrI2MTz5n"
   },
   "source": [
    "### 1.5 기술통계"
   ]
  },
  {
   "cell_type": "code",
   "execution_count": null,
   "metadata": {},
   "outputs": [],
   "source": [
    "df.isnull()"
   ]
  },
  {
   "cell_type": "code",
   "execution_count": null,
   "metadata": {},
   "outputs": [],
   "source": [
    "df.isnull().sum()"
   ]
  },
  {
   "cell_type": "code",
   "execution_count": null,
   "metadata": {
    "id": "yClGgVJGTz5o"
   },
   "outputs": [],
   "source": [
    "# describe 를 통해 범주형 변수에 대한 기술통계를 보기\n",
    "df.describe(include=\"object\")"
   ]
  },
  {
   "cell_type": "markdown",
   "metadata": {},
   "source": [
    "## 2. 범주형 변수의 빈도수\n",
    "\n",
    "\n",
    "파이썬의 범주형 변수에 대한 빈도수를 그립니다. \n",
    "변수의 갯수에 따라 1개의 변수에 대해서는 value_counts()를 통해 그려보고 2개 이상의 변수에 대해서는 pd.crosstab을 통해 빈도수를 구합니다.\n",
    "\n",
    "df.nunique() 를 통해 유일값의 갯수를 구할 수 있습니다.\n",
    "\n",
    "하나의 변수에 대한 빈도수는 series.value_counts() 로 구합니다. \n",
    "\n",
    "(판다스 1.1.3 버전부터는 데이터프레임 전체 대한 빈도수도 구할 수 있습니다.)\n",
    "seaborn 으로 빈도수를 시각화 할 때는 sns.countplot()으로 시각화 합니다.  \n",
    "seaborn은 data와  x 혹은  y축의 변수값만 지정해 주면 countplot으로 빈도수를 시각화 합니다.\n",
    "\n",
    "\n",
    "두 개 이상의 변수에 대한 빈도수를 구할 때는 pd.crosstab() 을 사용합니다. \n",
    "countplot을 시각화 할 때 seaborn 의 hue 에 특정 변수를 지정해 주면 해당 변수값에 따라 막대의 색상을 다르게 표현하게 됩니다.\n",
    "\n",
    "\n",
    "\n"
   ]
  },
  {
   "cell_type": "markdown",
   "metadata": {
    "id": "8ag_eGJ0Tz5p"
   },
   "source": [
    "### 2.1 범주형 데이터 유일값의 빈도수\n",
    "\n",
    "- 숫자 데이터도 범주형 데이터 일수도 있다. ( categorical )\n"
   ]
  },
  {
   "cell_type": "code",
   "execution_count": null,
   "metadata": {
    "id": "iD_dXowSTz5p"
   },
   "outputs": [],
   "source": [
    "# nunique 값 구하기\n",
    "df.nunique()"
   ]
  },
  {
   "cell_type": "markdown",
   "metadata": {},
   "source": [
    "cylinders         5\n",
    "model_year       13\n",
    "\n",
    "- 수치 데이터 이지만 unique 값이 적어 범주형 데이터에 가깝다고 볼 수 있다.\n"
   ]
  },
  {
   "cell_type": "code",
   "execution_count": null,
   "metadata": {
    "id": "2JSW2EinTz5q"
   },
   "outputs": [],
   "source": [
    "# countplot 으로 origin 빈도수 시각화 하기\n",
    "# countplot은 y값을 지정해주지 않아도 빈도수 count\n",
    "\n",
    "sns.countplot(data=df, x=\"origin\")"
   ]
  },
  {
   "cell_type": "code",
   "execution_count": null,
   "metadata": {},
   "outputs": [],
   "source": [
    "sns.countplot(data=df, y=\"origin\")"
   ]
  },
  {
   "cell_type": "markdown",
   "metadata": {
    "id": "GuQuAFAkTz5x"
   },
   "source": [
    "### 2.2 범주형 변수 1개 의 빈도수\n",
    "\n",
    "- series.value_counts()"
   ]
  },
  {
   "cell_type": "code",
   "execution_count": null,
   "metadata": {
    "id": "nukN95w2Tz5x"
   },
   "outputs": [],
   "source": [
    "# origin 의 빈도수 구하기\n",
    "# series.value_counts()\n",
    "\n",
    "df[\"origin\"].value_counts()"
   ]
  },
  {
   "cell_type": "markdown",
   "metadata": {
    "id": "4unlXQ64Tz5x"
   },
   "source": [
    "### 2.2 범주형 변수 2개 이상의 변수에 대한 빈도수"
   ]
  },
  {
   "cell_type": "code",
   "execution_count": null,
   "metadata": {
    "id": "iqNiCgi1Tz5y"
   },
   "outputs": [],
   "source": [
    "# countplot 으로 origin 의 빈도수를 시각화 하고 cylinders 로 다른 색상으로 표현하기\n",
    "# x = origin , 컬러를 cylinders 로 각각 나타내기\n",
    "\n",
    "sns.countplot(data=df, x=\"origin\", hue =\"cylinders\")\n",
    "\n"
   ]
  },
  {
   "cell_type": "code",
   "execution_count": null,
   "metadata": {
    "id": "O7luD0P_Tz5y"
   },
   "outputs": [],
   "source": [
    "# countplot 으로 cylinders 의 빈도수를 시각화 하고 origin 으로 다른 색상으로 표현하기\n",
    "\n",
    "sns.countplot(data=df, x=\"cylinders\")\n",
    "\n"
   ]
  },
  {
   "cell_type": "code",
   "execution_count": null,
   "metadata": {},
   "outputs": [],
   "source": [
    "sns.countplot(data=df, x=\"cylinders\",hue=\"origin\")\n",
    "\n"
   ]
  },
  {
   "cell_type": "code",
   "execution_count": null,
   "metadata": {
    "id": "3SmgtzB6Tz5y"
   },
   "outputs": [],
   "source": [
    "# 2개 데이터 - pd.crosstab 으로 시각화한 값 직접 구하기\n",
    "# 1개 데이터 - series.value_counts()\n",
    "\n",
    "pd.crosstab(df[\"origin\"],df[\"cylinders\"])\n"
   ]
  },
  {
   "cell_type": "markdown",
   "metadata": {},
   "source": [
    "### 2.3 result\n",
    "- cylinders 8개는 only 미국 확인 가능\n"
   ]
  },
  {
   "cell_type": "markdown",
   "metadata": {
    "id": "kS2wkOf9Tz5z"
   },
   "source": [
    "## 3. 범주형 변수와 수치형 변수를 barplot 으로 시각화\n",
    "- **대표값(estimator) 시각화**\n",
    "\n",
    "\n",
    "\n",
    "\n",
    "\n",
    "범주형과 수치형 변수로 막대그래프를 시각화 합니다. \n",
    "\n",
    "barplot 은 범주형 변수와 수치형 변수의 **대표값(estimator)** 을 그릴 때 사용합니다. \n",
    "\n",
    "수치형 변수를 표현하는 대표값에 대한 기본값은 평균이 됩니다. \n",
    "\n",
    "barplot의 값을 직접 구하고자 한다면 groupby와 pivot_table을 통해 구할 수 있습니다.\n",
    "\n",
    "\n",
    "- barplot(estimator = mean)은 이상치 값 확인할 수 없다 > **boxplot**\n",
    "\n"
   ]
  },
  {
   "cell_type": "markdown",
   "metadata": {},
   "source": [
    "### 3.1 barplot, estimator, ci"
   ]
  },
  {
   "cell_type": "code",
   "execution_count": null,
   "metadata": {},
   "outputs": [],
   "source": [
    "\n",
    "# 대표값 변경 > 'estimator' mean > \n",
    "\n",
    "\n",
    "sns.barplot(data=df, x=\"origin\", y=\"mpg\",estimator=np.sum)"
   ]
  },
  {
   "cell_type": "code",
   "execution_count": null,
   "metadata": {},
   "outputs": [],
   "source": [
    "# ci 신뢰구간 confidence interval sd = 표준편차\n",
    "# boot straping 을 생략하고 바로 표준편차\n",
    "# 신뢰구간 별 의미 없다면 ci = Node 선언\n",
    "\n",
    "sns.barplot(data=df, x=\"origin\", y=\"mpg\",estimator=np.mean, ci = \"sd\")"
   ]
  },
  {
   "cell_type": "code",
   "execution_count": null,
   "metadata": {
    "id": "lvPxqrkGTz5z"
   },
   "outputs": [],
   "source": [
    "# barplot 으로 origin 별 mpg 값 구하기\n",
    "\n",
    "# ci = Size of confidence intervals / default = 95\n",
    "# ci 신뢰구간 confidence interval   \n",
    "\n",
    "\n",
    "sns.barplot(data=df, x=\"origin\", y=\"mpg\",estimator=np.mean, ci = 95)"
   ]
  },
  {
   "cell_type": "markdown",
   "metadata": {
    "id": "CVPyOLWVTz5z"
   },
   "source": [
    "### 3.2 groupby ( ) 함수를 통한 범주형 변수 연산"
   ]
  },
  {
   "cell_type": "code",
   "execution_count": null,
   "metadata": {},
   "outputs": [],
   "source": [
    "# groupby( ) 함수 method 를 통해 origin 별로 그룹화 하고 평균 구하기\n",
    "# .mean() method chain : 함수들을 이어 붙혀서 사용\n",
    "\n",
    "df.groupby(\"origin\").mean()"
   ]
  },
  {
   "cell_type": "code",
   "execution_count": null,
   "metadata": {
    "id": "zgmHODy0Tz50"
   },
   "outputs": [],
   "source": [
    "# groupby( ) 함수 method 를 통해 origin 별로 그룹화 하고 평균 구하고 \"mpg\" column 인덱싱\n",
    "\n",
    "df.groupby(\"origin\")[\"mpg\"].mean() # Series\n",
    "\n",
    "# type(df.groupby(\"origin\")[\"mpg\"].mean()) "
   ]
  },
  {
   "cell_type": "markdown",
   "metadata": {
    "id": "U8eLQzwlTz50"
   },
   "source": [
    "### 3.3 pivot table( ) 함수를 통한 범주형 변수 연산\n",
    "\n",
    "- pivot_table?\n",
    "- pivot_table??\n"
   ]
  },
  {
   "cell_type": "code",
   "execution_count": null,
   "metadata": {
    "id": "VqIY8ogFTz50"
   },
   "outputs": [],
   "source": [
    "# pivot_table() 로 origin 별 mpg 평균 구하기\n",
    "\n",
    "# aggfunc defalut mean\n",
    "# index = groupby(\"\")\n",
    "# values = [\"\"]\n",
    "\n",
    "pd.pivot_table(data=df, index=\"origin\", values=\"mpg\") # DataFrame\n"
   ]
  },
  {
   "cell_type": "code",
   "execution_count": null,
   "metadata": {
    "id": "gHiEDcxzTz51"
   },
   "outputs": [],
   "source": [
    "# barplot 으로 합계 값 구하기\n",
    "# estimator 의미 있는걸 선정해줘야 한다.\n",
    "# 매출데이터 혹은 판매데이터라면 의미 있는 estimator = np.sum 으로 계산할수 있다.\n",
    "# ci = 95(default) 저정도 위치하다는것을 95% 정도 신뢰할수 있다.\n",
    "\n",
    "sns.barplot(data=df, x=\"origin\", y=\"mpg\",estimator=np.sum, ci = None) "
   ]
  },
  {
   "cell_type": "code",
   "execution_count": null,
   "metadata": {
    "id": "VeUOGDN0Tz51"
   },
   "outputs": [],
   "source": [
    "# barplot 에 hue 를 사용하여 색상을 다르게 표현해 보기\n",
    "# cylinders 별 mpg 확인해주면서, origin별 로도 확인가능\n",
    "\n",
    "\n",
    "plt.figure(figsize=(10,4))\n",
    "\n",
    "\n",
    "sns.barplot(data=df, x=\"cylinders\", y=\"mpg\",ci=None, hue=\"origin\")\n",
    "\n",
    "# 실린더가 4개일때 대체적으로 연비가 높으며, 재팬이 높은 경향이 있다.\n"
   ]
  },
  {
   "cell_type": "markdown",
   "metadata": {},
   "source": [
    "### 3.4 groupby ( ) 함수를 통한 범주형 변수 연산"
   ]
  },
  {
   "cell_type": "code",
   "execution_count": null,
   "metadata": {
    "id": "lwgax5qvTz52"
   },
   "outputs": [],
   "source": [
    "# groupby 를 통해 위 시각화에 대한 값을 구하기\n",
    "# 리스트 형태로 묶어줘야 한다.\n",
    "\n",
    "# df.groupby(\"cylinders\",\"origin\") # KEY ERROR ( by=, axis 자리 ) \n",
    "# list 로 묶어 줘야 한다.\n",
    "# mpg의 평균\n",
    "\n",
    "# unstack() 데이터 프레임 화\n",
    "# NaN : Not a Number\n",
    "# df.groupby([\"cylinders\",\"origin\"])[\"mpg\"].mean() # Series\n",
    "\n",
    "df.groupby([\"cylinders\",\"origin\"])[\"mpg\"].mean().unstack() # Dataframe"
   ]
  },
  {
   "cell_type": "code",
   "execution_count": null,
   "metadata": {
    "id": "k2GmPTX8Tz52"
   },
   "outputs": [],
   "source": [
    "# pd.pivot : 연산 X\n",
    "# pivot_table : 연산 O\n",
    "\n",
    "# pivot_table 를 통해 모든 수치변수에 대한 평균값 구하기\n",
    "pd.pivot_table(data=df, index=\"cylinders\",columns=\"origin\")\n",
    "\n"
   ]
  },
  {
   "cell_type": "markdown",
   "metadata": {},
   "source": [
    "### 3.5 barplot hue 적용 "
   ]
  },
  {
   "cell_type": "code",
   "execution_count": null,
   "metadata": {},
   "outputs": [],
   "source": [
    "# pivot_table 를 통해 위 시각화에 대한 값(origin,cylinder별 \"mpg\" mean)을 구하기 \n",
    "# groupby() 결과 값과 같습니다.\n",
    "\n",
    "pd.pivot_table(data=df, index=\"cylinders\",columns=\"origin\",values=\"mpg\")"
   ]
  },
  {
   "cell_type": "code",
   "execution_count": null,
   "metadata": {
    "id": "nSVv8-xATz53"
   },
   "outputs": [],
   "source": [
    "# cylinders 와 mpg 의 x, hue 값을 변경해서 시각화\n",
    "# ci 가능\n",
    "\n",
    "plt.figure(figsize=(10,4))\n",
    "\n",
    "sns.barplot(data=df, x=\"cylinders\", y=\"mpg\", hue=\"origin\")"
   ]
  },
  {
   "cell_type": "markdown",
   "metadata": {},
   "source": [
    "### 3.6 result\n",
    "- barplot을 통해 범주형 변수들의 그룹별 평균과 합을 시각화 하였으며, 그룹별 평균과 합 을 groupby(),pivot_table() 을 통해 직접 구했습니다.\n"
   ]
  },
  {
   "cell_type": "markdown",
   "metadata": {},
   "source": [
    "## 4. 범주형 변수와 수치형 변수를 boxplot 으로 시각화\n",
    "\n",
    "\n",
    "범주형과 수치형변수를 박스플롯으로  그리고 사분위수와 이상치를 알아봅니다.\n",
    "\n",
    "boxplot과 사분위수를 알아보고 boxplot 내부에  사분위수가 어떻게 표현되는지 알아봅니다. df.groupby().describe()를 통해 범주형 값으로 그룹화를 하고 개별 범주 값에 대한 기술 통계값을 구해 boxplot과 비교해 봅니다.\n",
    "\n"
   ]
  },
  {
   "cell_type": "markdown",
   "metadata": {
    "id": "6AtPOtYyTz53"
   },
   "source": [
    "### 4.1 boxplot과 사분위수\n",
    "\n",
    "<img src=\"https://upload.wikimedia.org/wikipedia/commons/thumb/1/1a/Boxplot_vs_PDF.svg/1280px-Boxplot_vs_PDF.svg.png\" width=\"300\">\n",
    "\n",
    "이미지 출처 : https://en.wikipedia.org/wiki/Box_plot"
   ]
  },
  {
   "cell_type": "code",
   "execution_count": null,
   "metadata": {
    "id": "pk09hk9PTz54"
   },
   "outputs": [],
   "source": [
    "# boxplot 으로 origin 별 mpg 의 기술통계 값 구하기\n",
    "\n",
    "sns.boxplot(data=df, x=\"origin\",y=\"mpg\")"
   ]
  },
  {
   "cell_type": "code",
   "execution_count": null,
   "metadata": {
    "id": "RaDZ_hGDTz54"
   },
   "outputs": [],
   "source": [
    "# groupby로 origin 값에 따른 mpg의 기술통계 구하기\n",
    "# 결과를 변수에 할당하여 재사용하기\n"
   ]
  },
  {
   "cell_type": "markdown",
   "metadata": {
    "id": "URuKASzTTz55"
   },
   "source": [
    "### 4.2 boxplot, boxenplot, violinplot\n",
    "\n",
    "* https://ko.wikipedia.org/wiki/%EC%83%81%EC%9E%90_%EC%88%98%EC%97%BC_%EA%B7%B8%EB%A6%BC"
   ]
  },
  {
   "cell_type": "code",
   "execution_count": null,
   "metadata": {
    "id": "1s0l6V8pTz55"
   },
   "outputs": [],
   "source": [
    "# IQR, 이상치를 제외한 최댓값, 최솟값 구하기\n",
    "# Q3\n",
    "# Q1\n",
    "# IQR\n",
    "# OUT_MAX\n",
    "# OUT_MIN"
   ]
  },
  {
   "cell_type": "code",
   "execution_count": null,
   "metadata": {
    "id": "66IXSL4yTz55"
   },
   "outputs": [],
   "source": [
    "# boxplot 박스 내부 값 변화시 표시 X, 수염 부분 값 나타내기 힘듬 \n",
    "# boxenplot 그리기 \n",
    "# boxenplot 으로 수염부분 더 자세하게 그릴수 있다.\n",
    "\n",
    "\n",
    "\n"
   ]
  },
  {
   "cell_type": "code",
   "execution_count": null,
   "metadata": {
    "id": "LwNsxGlLTz56"
   },
   "outputs": [],
   "source": [
    "# violinplot 그리기\n",
    "# kdeplot을 마주보게 그려줌으로써 수염부분을 더 자세하게 시각화 할 수 있습니다.\n",
    "\n"
   ]
  },
  {
   "cell_type": "markdown",
   "metadata": {},
   "source": [
    "### 4.3 Result\n",
    "\n",
    "- 범주형 데이터와 수치형 데이터를 가지고 \n",
    "- boxplot 과 violinplot 함수를 통해\n",
    "- 범주형 데이터에 따라서 수치형 데이터 **분포** 시각화"
   ]
  },
  {
   "cell_type": "markdown",
   "metadata": {},
   "source": [
    "## 5. 범주형 변수 scatterplot 으로 시각화\n",
    "\n",
    "\n",
    "범주형 변수의 산점도를 scatterplot으로 표현하면 같은 곳에 점이 여러 개 찍혀서 값을 제대로 표현하기 어렵습니다. 그래서 범주형 데이터의 산점도를 표현할 때는  stripplot 을 사용하면 점을 흩어지게 그리게 됩니다. 하지만 이 그래프 역시 데이터가 많으면 점이 겹쳐 보이게 되는데 이 단점을 보완한 시각화가 swarmplot 입니다.\n",
    "\n"
   ]
  },
  {
   "cell_type": "markdown",
   "metadata": {
    "id": "Yx1Ja51xTz57"
   },
   "source": [
    "### 5.1 산점도를 통한 범주형 데이터 표현"
   ]
  },
  {
   "cell_type": "code",
   "execution_count": null,
   "metadata": {
    "id": "m_iNkMIKTz57"
   },
   "outputs": [],
   "source": [
    "# scatterplot 으로 범주형 변수 그리기\n"
   ]
  },
  {
   "cell_type": "code",
   "execution_count": null,
   "metadata": {
    "id": "V1GtMb06Tz57"
   },
   "outputs": [],
   "source": [
    "# stripplot\n"
   ]
  },
  {
   "cell_type": "code",
   "execution_count": null,
   "metadata": {
    "id": "vN2kM-7wTz57"
   },
   "outputs": [],
   "source": [
    "# swarmplot\n"
   ]
  },
  {
   "cell_type": "markdown",
   "metadata": {
    "id": "0ebA1plJTz58"
   },
   "source": [
    "### 5.2 catplot을 통한 범주형 데이터의 서브플롯 시각화\n",
    "<img src=\"https://seaborn.pydata.org/_images/function_overview_8_0.png\" width=\"500\">\n",
    "\n",
    "\n",
    "범주형 데이터의 서브플롯을 시각화 할 때 사용하는 catplot\n",
    "catplot 은 범주형 데이터의 서브플롯을 그릴 때 사용합니다. 기본 값은 stripplot이며 아래 catplot 의 아래에 있는 시각화를 표현할 수 있습니다.\n",
    "\n"
   ]
  },
  {
   "cell_type": "code",
   "execution_count": null,
   "metadata": {
    "id": "u8OlVYWZTz58"
   },
   "outputs": [],
   "source": [
    "# catplot\n"
   ]
  },
  {
   "cell_type": "code",
   "execution_count": null,
   "metadata": {
    "id": "xG2sLsKPTz58"
   },
   "outputs": [],
   "source": [
    "# catplot 으로 boxplot그리기\n"
   ]
  },
  {
   "cell_type": "code",
   "execution_count": null,
   "metadata": {
    "id": "FLDCVSrsTz58"
   },
   "outputs": [],
   "source": [
    "# catplot 으로 violinplot그리기\n"
   ]
  },
  {
   "cell_type": "code",
   "execution_count": null,
   "metadata": {
    "id": "xM-kVUQUTz59"
   },
   "outputs": [],
   "source": [
    "# catplot 으로 countplot그리기\n"
   ]
  },
  {
   "cell_type": "code",
   "execution_count": null,
   "metadata": {
    "id": "jUktOKKUTz59",
    "scrolled": false
   },
   "outputs": [],
   "source": [
    "# catplot 으로 boxplot그리기\n",
    "# df 전체를 넣고 시각화 하기\n"
   ]
  },
  {
   "cell_type": "code",
   "execution_count": null,
   "metadata": {
    "id": "Q-mv-4wATz59"
   },
   "outputs": [],
   "source": [
    "# catplot 으로 violinplot그리기\n",
    "# df 전체를 넣고 시각화 하기\n"
   ]
  },
  {
   "cell_type": "code",
   "execution_count": null,
   "metadata": {
    "id": "B7288GtdTz59"
   },
   "outputs": [],
   "source": [
    "address = \"서울시 강남구 역삼동\""
   ]
  },
  {
   "cell_type": "code",
   "execution_count": null,
   "metadata": {},
   "outputs": [],
   "source": [
    "address.split()\n",
    "\n",
    "# 리스트로  변경"
   ]
  },
  {
   "cell_type": "code",
   "execution_count": null,
   "metadata": {},
   "outputs": [],
   "source": [
    "alphabets = ['a', 'b', 'c', 'd', 'e']"
   ]
  },
  {
   "cell_type": "code",
   "execution_count": null,
   "metadata": {},
   "outputs": [],
   "source": [
    "alphabets[-2:]\n"
   ]
  },
  {
   "cell_type": "code",
   "execution_count": null,
   "metadata": {},
   "outputs": [],
   "source": [
    "foods = [\"감자\", \"고구마\", \"옥수수\"]"
   ]
  },
  {
   "cell_type": "code",
   "execution_count": null,
   "metadata": {},
   "outputs": [],
   "source": [
    "foods.append(\"dud\")"
   ]
  },
  {
   "cell_type": "code",
   "execution_count": null,
   "metadata": {},
   "outputs": [],
   "source": [
    "foods"
   ]
  },
  {
   "cell_type": "code",
   "execution_count": null,
   "metadata": {},
   "outputs": [],
   "source": [
    "d = {}"
   ]
  },
  {
   "cell_type": "code",
   "execution_count": null,
   "metadata": {},
   "outputs": [],
   "source": [
    "type(d)"
   ]
  },
  {
   "cell_type": "code",
   "execution_count": null,
   "metadata": {},
   "outputs": [],
   "source": []
  }
 ],
 "metadata": {
  "colab": {
   "name": "5.4 파이썬 EDA-범주형 변수-input.ipynb",
   "provenance": []
  },
  "kernelspec": {
   "display_name": "Python 3",
   "language": "python",
   "name": "python3"
  },
  "language_info": {
   "codemirror_mode": {
    "name": "ipython",
    "version": 3
   },
   "file_extension": ".py",
   "mimetype": "text/x-python",
   "name": "python",
   "nbconvert_exporter": "python",
   "pygments_lexer": "ipython3",
   "version": "3.8.5"
  },
  "toc": {
   "base_numbering": 1,
   "nav_menu": {},
   "number_sections": true,
   "sideBar": true,
   "skip_h1_title": false,
   "title_cell": "Table of Contents",
   "title_sidebar": "Contents",
   "toc_cell": false,
   "toc_position": {
    "height": "calc(100% - 180px)",
    "left": "10px",
    "top": "150px",
    "width": "204.8px"
   },
   "toc_section_display": true,
   "toc_window_display": true
  },
  "varInspector": {
   "cols": {
    "lenName": 16,
    "lenType": 16,
    "lenVar": 40
   },
   "kernels_config": {
    "python": {
     "delete_cmd_postfix": "",
     "delete_cmd_prefix": "del ",
     "library": "var_list.py",
     "varRefreshCmd": "print(var_dic_list())"
    },
    "r": {
     "delete_cmd_postfix": ") ",
     "delete_cmd_prefix": "rm(",
     "library": "var_list.r",
     "varRefreshCmd": "cat(var_dic_list()) "
    }
   },
   "types_to_exclude": [
    "module",
    "function",
    "builtin_function_or_method",
    "instance",
    "_Feature"
   ],
   "window_display": false
  }
 },
 "nbformat": 4,
 "nbformat_minor": 1
}
