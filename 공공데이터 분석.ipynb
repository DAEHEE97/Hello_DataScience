{
 "cells": [
  {
   "cell_type": "markdown",
   "metadata": {
    "id": "vna24p4nvkZw"
   },
   "source": [
    "[![Open In Colab](https://colab.research.google.com/assets/colab-badge.svg)](https://colab.research.google.com/github/corazzon/boostcourse-ds-510/blob/master/open-data-analysis-output.ipynb)\n",
    "\n",
    "\n",
    "# 공공데이터 상권정보 분석해 보기\n",
    "* https://www.data.go.kr/dataset/15012005/fileData.do\n",
    "* 국가중점데이터인 상권정보를 살펴봅니다.\n",
    "* 처음으로 파일데이터에서 `상가(상권)정보_의료기관_201909`를 다운로드 받아봅니다."
   ]
  },
  {
   "cell_type": "markdown",
   "metadata": {
    "id": "aK3f4_aJvkZz"
   },
   "source": [
    "## 필요한 라이브러리 불러오기"
   ]
  },
  {
   "cell_type": "code",
   "execution_count": 1,
   "metadata": {
    "id": "zYqNkMT_vkZz"
   },
   "outputs": [],
   "source": [
    "import pandas as pd\n",
    "import numpy as np\n",
    "import seaborn as sns"
   ]
  },
  {
   "cell_type": "markdown",
   "metadata": {
    "id": "y1SdYSeHvkZ0"
   },
   "source": [
    "## 시각화를 위한 폰트 설정"
   ]
  },
  {
   "cell_type": "code",
   "execution_count": 2,
   "metadata": {
    "id": "fur5ii6BvkZ1"
   },
   "outputs": [],
   "source": [
    "import matplotlib.pyplot as plt\n",
    "from IPython.display import set_matplotlib_formats\n",
    "\n",
    "# Window 의 한글 폰트 설정\n",
    "# plt.rc('font',family='Malgun Gothic')\n",
    "\n",
    "# Mac 의 한글 폰트 설정\n",
    "#한글 폰트를 사용하면 minus font가 깨지는 경우가 있어서 unicode_minus를 False로 설정합니다.\n",
    "\n",
    "plt.rc('font', family='AppleGothic') \n",
    "plt.rc('axes', unicode_minus=False)\n",
    "\n",
    "# 폰트가 선명하게 보이기 위해\n",
    "set_matplotlib_formats('retina')\n",
    "\n",
    "# 그래프가 노트북 안에 보이게 하기 위해\n",
    "%matplotlib inline"
   ]
  },
  {
   "cell_type": "markdown",
   "metadata": {
    "id": "YtpqmaKsvkZ1"
   },
   "source": [
    "## 데이터 로드하기\n",
    "* 판다스에서 데이터를 로드할 때는 read_csv를 사용합니다.\n",
    "* 데이터를 로드해서 df라는 변수에 담습니다.\n",
    "* 그리고 shape 를 통해 데이터의 갯수를 찍습니다. 결과는 (행, 열) 순으로 출력됩니다."
   ]
  },
  {
   "cell_type": "code",
   "execution_count": 3,
   "metadata": {},
   "outputs": [],
   "source": [
    "# df = pd.read_csv(\"data/소상공인시장진흥공단_상가업소정보_의료기관_201909.csv\")\n",
    "# Warning : Columns have mixed types > set low_memory=False"
   ]
  },
  {
   "cell_type": "code",
   "execution_count": 4,
   "metadata": {
    "id": "mlIgfu9ovkZ1",
    "outputId": "8ef44928-ae31-4257-9897-2a820758cce0"
   },
   "outputs": [
    {
     "data": {
      "text/plain": [
       "(91335, 39)"
      ]
     },
     "execution_count": 4,
     "metadata": {},
     "output_type": "execute_result"
    }
   ],
   "source": [
    "df = pd.read_csv(\"data/소상공인시장진흥공단_상가업소정보_의료기관_201909.csv\", low_memory=False)\n",
    "df.shape"
   ]
  },
  {
   "cell_type": "markdown",
   "metadata": {
    "id": "gQ3NMWTdvkZ2"
   },
   "source": [
    "## 데이터 미리보기\n",
    "* head, tail 을 통해 데이터를 미리 볼 수 있습니다."
   ]
  },
  {
   "cell_type": "code",
   "execution_count": 5,
   "metadata": {
    "id": "BMCMu_1svkZ3",
    "outputId": "8e431212-aaa4-4e0d-fde1-da153b77048f"
   },
   "outputs": [
    {
     "data": {
      "text/html": [
       "<div>\n",
       "<style scoped>\n",
       "    .dataframe tbody tr th:only-of-type {\n",
       "        vertical-align: middle;\n",
       "    }\n",
       "\n",
       "    .dataframe tbody tr th {\n",
       "        vertical-align: top;\n",
       "    }\n",
       "\n",
       "    .dataframe thead th {\n",
       "        text-align: right;\n",
       "    }\n",
       "</style>\n",
       "<table border=\"1\" class=\"dataframe\">\n",
       "  <thead>\n",
       "    <tr style=\"text-align: right;\">\n",
       "      <th></th>\n",
       "      <th>상가업소번호</th>\n",
       "      <th>상호명</th>\n",
       "      <th>지점명</th>\n",
       "      <th>상권업종대분류코드</th>\n",
       "      <th>상권업종대분류명</th>\n",
       "      <th>상권업종중분류코드</th>\n",
       "      <th>상권업종중분류명</th>\n",
       "      <th>상권업종소분류코드</th>\n",
       "      <th>상권업종소분류명</th>\n",
       "      <th>표준산업분류코드</th>\n",
       "      <th>...</th>\n",
       "      <th>건물관리번호</th>\n",
       "      <th>건물명</th>\n",
       "      <th>도로명주소</th>\n",
       "      <th>구우편번호</th>\n",
       "      <th>신우편번호</th>\n",
       "      <th>동정보</th>\n",
       "      <th>층정보</th>\n",
       "      <th>호정보</th>\n",
       "      <th>경도</th>\n",
       "      <th>위도</th>\n",
       "    </tr>\n",
       "  </thead>\n",
       "  <tbody>\n",
       "    <tr>\n",
       "      <th>0</th>\n",
       "      <td>19956873</td>\n",
       "      <td>하나산부인과</td>\n",
       "      <td>NaN</td>\n",
       "      <td>S</td>\n",
       "      <td>의료</td>\n",
       "      <td>S01</td>\n",
       "      <td>병원</td>\n",
       "      <td>S01B10</td>\n",
       "      <td>산부인과</td>\n",
       "      <td>Q86201</td>\n",
       "      <td>...</td>\n",
       "      <td>4127310900110810000010857</td>\n",
       "      <td>산호한양아파트</td>\n",
       "      <td>경기도 안산시 단원구 달미로 10</td>\n",
       "      <td>425764.0</td>\n",
       "      <td>15236.0</td>\n",
       "      <td>NaN</td>\n",
       "      <td>NaN</td>\n",
       "      <td>NaN</td>\n",
       "      <td>126.814295</td>\n",
       "      <td>37.336344</td>\n",
       "    </tr>\n",
       "  </tbody>\n",
       "</table>\n",
       "<p>1 rows × 39 columns</p>\n",
       "</div>"
      ],
      "text/plain": [
       "     상가업소번호     상호명  지점명 상권업종대분류코드 상권업종대분류명 상권업종중분류코드 상권업종중분류명 상권업종소분류코드  \\\n",
       "0  19956873  하나산부인과  NaN         S       의료       S01       병원    S01B10   \n",
       "\n",
       "  상권업종소분류명 표준산업분류코드  ...                     건물관리번호      건물명  \\\n",
       "0     산부인과   Q86201  ...  4127310900110810000010857  산호한양아파트   \n",
       "\n",
       "                도로명주소     구우편번호    신우편번호  동정보  층정보  호정보          경도         위도  \n",
       "0  경기도 안산시 단원구 달미로 10  425764.0  15236.0  NaN  NaN  NaN  126.814295  37.336344  \n",
       "\n",
       "[1 rows x 39 columns]"
      ]
     },
     "execution_count": 5,
     "metadata": {},
     "output_type": "execute_result"
    }
   ],
   "source": [
    "# head 로 데이터를 미리보기 합니다.\n",
    "df.head(1)"
   ]
  },
  {
   "cell_type": "code",
   "execution_count": 6,
   "metadata": {
    "id": "djwg4JdrvkZ3",
    "outputId": "d3de1a07-b54b-4168-a9e0-a6d0fb2b1230",
    "scrolled": false
   },
   "outputs": [
    {
     "data": {
      "text/html": [
       "<div>\n",
       "<style scoped>\n",
       "    .dataframe tbody tr th:only-of-type {\n",
       "        vertical-align: middle;\n",
       "    }\n",
       "\n",
       "    .dataframe tbody tr th {\n",
       "        vertical-align: top;\n",
       "    }\n",
       "\n",
       "    .dataframe thead th {\n",
       "        text-align: right;\n",
       "    }\n",
       "</style>\n",
       "<table border=\"1\" class=\"dataframe\">\n",
       "  <thead>\n",
       "    <tr style=\"text-align: right;\">\n",
       "      <th></th>\n",
       "      <th>상가업소번호</th>\n",
       "      <th>상호명</th>\n",
       "      <th>지점명</th>\n",
       "      <th>상권업종대분류코드</th>\n",
       "      <th>상권업종대분류명</th>\n",
       "      <th>상권업종중분류코드</th>\n",
       "      <th>상권업종중분류명</th>\n",
       "      <th>상권업종소분류코드</th>\n",
       "      <th>상권업종소분류명</th>\n",
       "      <th>표준산업분류코드</th>\n",
       "      <th>...</th>\n",
       "      <th>건물관리번호</th>\n",
       "      <th>건물명</th>\n",
       "      <th>도로명주소</th>\n",
       "      <th>구우편번호</th>\n",
       "      <th>신우편번호</th>\n",
       "      <th>동정보</th>\n",
       "      <th>층정보</th>\n",
       "      <th>호정보</th>\n",
       "      <th>경도</th>\n",
       "      <th>위도</th>\n",
       "    </tr>\n",
       "  </thead>\n",
       "  <tbody>\n",
       "    <tr>\n",
       "      <th>91330</th>\n",
       "      <td>16196725</td>\n",
       "      <td>온누리약국</td>\n",
       "      <td>베스트</td>\n",
       "      <td>S</td>\n",
       "      <td>의료</td>\n",
       "      <td>S02</td>\n",
       "      <td>약국/한약방</td>\n",
       "      <td>S02A01</td>\n",
       "      <td>약국</td>\n",
       "      <td>G47811</td>\n",
       "      <td>...</td>\n",
       "      <td>3017011200115070000021096</td>\n",
       "      <td>NaN</td>\n",
       "      <td>대전광역시 서구 문예로 67</td>\n",
       "      <td>302831.0</td>\n",
       "      <td>35240.0</td>\n",
       "      <td>NaN</td>\n",
       "      <td>NaN</td>\n",
       "      <td>NaN</td>\n",
       "      <td>127.389865</td>\n",
       "      <td>36.352728</td>\n",
       "    </tr>\n",
       "    <tr>\n",
       "      <th>91331</th>\n",
       "      <td>16192180</td>\n",
       "      <td>리원</td>\n",
       "      <td>봄산후조</td>\n",
       "      <td>S</td>\n",
       "      <td>의료</td>\n",
       "      <td>S07</td>\n",
       "      <td>의료관련서비스업</td>\n",
       "      <td>S07A07</td>\n",
       "      <td>산후조리원</td>\n",
       "      <td>S96993</td>\n",
       "      <td>...</td>\n",
       "      <td>4128112300111460000011715</td>\n",
       "      <td>청한프라자</td>\n",
       "      <td>경기도 고양시 덕양구 성신로 14</td>\n",
       "      <td>412827.0</td>\n",
       "      <td>10503.0</td>\n",
       "      <td>NaN</td>\n",
       "      <td>NaN</td>\n",
       "      <td>NaN</td>\n",
       "      <td>126.830144</td>\n",
       "      <td>37.627530</td>\n",
       "    </tr>\n",
       "    <tr>\n",
       "      <th>91332</th>\n",
       "      <td>16127538</td>\n",
       "      <td>참좋은요양병원</td>\n",
       "      <td>NaN</td>\n",
       "      <td>S</td>\n",
       "      <td>의료</td>\n",
       "      <td>S01</td>\n",
       "      <td>병원</td>\n",
       "      <td>S01B17</td>\n",
       "      <td>노인/치매병원</td>\n",
       "      <td>Q86102</td>\n",
       "      <td>...</td>\n",
       "      <td>2641010800105380001005572</td>\n",
       "      <td>한신시티빌</td>\n",
       "      <td>부산광역시 금정구 금강로 209</td>\n",
       "      <td>609841.0</td>\n",
       "      <td>46294.0</td>\n",
       "      <td>NaN</td>\n",
       "      <td>2</td>\n",
       "      <td>NaN</td>\n",
       "      <td>129.082790</td>\n",
       "      <td>35.227138</td>\n",
       "    </tr>\n",
       "    <tr>\n",
       "      <th>91333</th>\n",
       "      <td>16108681</td>\n",
       "      <td>경희중앙한의원</td>\n",
       "      <td>NaN</td>\n",
       "      <td>S</td>\n",
       "      <td>의료</td>\n",
       "      <td>S01</td>\n",
       "      <td>병원</td>\n",
       "      <td>S01B06</td>\n",
       "      <td>한의원</td>\n",
       "      <td>Q86203</td>\n",
       "      <td>...</td>\n",
       "      <td>1174010500103450009002392</td>\n",
       "      <td>NaN</td>\n",
       "      <td>서울특별시 강동구 천중로 213</td>\n",
       "      <td>134811.0</td>\n",
       "      <td>5303.0</td>\n",
       "      <td>NaN</td>\n",
       "      <td>NaN</td>\n",
       "      <td>NaN</td>\n",
       "      <td>127.143958</td>\n",
       "      <td>37.540993</td>\n",
       "    </tr>\n",
       "    <tr>\n",
       "      <th>91334</th>\n",
       "      <td>16109073</td>\n",
       "      <td>천안김안과천안역본점의원</td>\n",
       "      <td>NaN</td>\n",
       "      <td>S</td>\n",
       "      <td>의료</td>\n",
       "      <td>S01</td>\n",
       "      <td>병원</td>\n",
       "      <td>S01B13</td>\n",
       "      <td>안과의원</td>\n",
       "      <td>Q86201</td>\n",
       "      <td>...</td>\n",
       "      <td>4413110700102660017016314</td>\n",
       "      <td>김안과</td>\n",
       "      <td>충청남도 천안시 동남구 중앙로 92</td>\n",
       "      <td>330952.0</td>\n",
       "      <td>31127.0</td>\n",
       "      <td>NaN</td>\n",
       "      <td>NaN</td>\n",
       "      <td>NaN</td>\n",
       "      <td>127.152651</td>\n",
       "      <td>36.806640</td>\n",
       "    </tr>\n",
       "  </tbody>\n",
       "</table>\n",
       "<p>5 rows × 39 columns</p>\n",
       "</div>"
      ],
      "text/plain": [
       "         상가업소번호           상호명   지점명 상권업종대분류코드 상권업종대분류명 상권업종중분류코드  상권업종중분류명  \\\n",
       "91330  16196725         온누리약국   베스트         S       의료       S02    약국/한약방   \n",
       "91331  16192180            리원  봄산후조         S       의료       S07  의료관련서비스업   \n",
       "91332  16127538       참좋은요양병원   NaN         S       의료       S01        병원   \n",
       "91333  16108681       경희중앙한의원   NaN         S       의료       S01        병원   \n",
       "91334  16109073  천안김안과천안역본점의원   NaN         S       의료       S01        병원   \n",
       "\n",
       "      상권업종소분류코드 상권업종소분류명 표준산업분류코드  ...                     건물관리번호    건물명  \\\n",
       "91330    S02A01       약국   G47811  ...  3017011200115070000021096    NaN   \n",
       "91331    S07A07    산후조리원   S96993  ...  4128112300111460000011715  청한프라자   \n",
       "91332    S01B17  노인/치매병원   Q86102  ...  2641010800105380001005572  한신시티빌   \n",
       "91333    S01B06      한의원   Q86203  ...  1174010500103450009002392    NaN   \n",
       "91334    S01B13     안과의원   Q86201  ...  4413110700102660017016314    김안과   \n",
       "\n",
       "                     도로명주소     구우편번호    신우편번호  동정보  층정보  호정보          경도  \\\n",
       "91330      대전광역시 서구 문예로 67  302831.0  35240.0  NaN  NaN  NaN  127.389865   \n",
       "91331   경기도 고양시 덕양구 성신로 14  412827.0  10503.0  NaN  NaN  NaN  126.830144   \n",
       "91332    부산광역시 금정구 금강로 209  609841.0  46294.0  NaN    2  NaN  129.082790   \n",
       "91333    서울특별시 강동구 천중로 213  134811.0   5303.0  NaN  NaN  NaN  127.143958   \n",
       "91334  충청남도 천안시 동남구 중앙로 92  330952.0  31127.0  NaN  NaN  NaN  127.152651   \n",
       "\n",
       "              위도  \n",
       "91330  36.352728  \n",
       "91331  37.627530  \n",
       "91332  35.227138  \n",
       "91333  37.540993  \n",
       "91334  36.806640  \n",
       "\n",
       "[5 rows x 39 columns]"
      ]
     },
     "execution_count": 6,
     "metadata": {},
     "output_type": "execute_result"
    }
   ],
   "source": [
    "# tail 로 마지막 부분에 있는 데이터를 불러옵니다.\n",
    "df.tail()"
   ]
  },
  {
   "cell_type": "code",
   "execution_count": 7,
   "metadata": {
    "id": "4ktT3VcevkZ4",
    "outputId": "32c9c7e7-1184-4855-eaab-fbf604bfa180"
   },
   "outputs": [
    {
     "data": {
      "text/html": [
       "<div>\n",
       "<style scoped>\n",
       "    .dataframe tbody tr th:only-of-type {\n",
       "        vertical-align: middle;\n",
       "    }\n",
       "\n",
       "    .dataframe tbody tr th {\n",
       "        vertical-align: top;\n",
       "    }\n",
       "\n",
       "    .dataframe thead th {\n",
       "        text-align: right;\n",
       "    }\n",
       "</style>\n",
       "<table border=\"1\" class=\"dataframe\">\n",
       "  <thead>\n",
       "    <tr style=\"text-align: right;\">\n",
       "      <th></th>\n",
       "      <th>상가업소번호</th>\n",
       "      <th>상호명</th>\n",
       "      <th>지점명</th>\n",
       "      <th>상권업종대분류코드</th>\n",
       "      <th>상권업종대분류명</th>\n",
       "      <th>상권업종중분류코드</th>\n",
       "      <th>상권업종중분류명</th>\n",
       "      <th>상권업종소분류코드</th>\n",
       "      <th>상권업종소분류명</th>\n",
       "      <th>표준산업분류코드</th>\n",
       "      <th>...</th>\n",
       "      <th>건물관리번호</th>\n",
       "      <th>건물명</th>\n",
       "      <th>도로명주소</th>\n",
       "      <th>구우편번호</th>\n",
       "      <th>신우편번호</th>\n",
       "      <th>동정보</th>\n",
       "      <th>층정보</th>\n",
       "      <th>호정보</th>\n",
       "      <th>경도</th>\n",
       "      <th>위도</th>\n",
       "    </tr>\n",
       "  </thead>\n",
       "  <tbody>\n",
       "    <tr>\n",
       "      <th>34884</th>\n",
       "      <td>27327964</td>\n",
       "      <td>이든신체교정원</td>\n",
       "      <td>NaN</td>\n",
       "      <td>S</td>\n",
       "      <td>의료</td>\n",
       "      <td>S01</td>\n",
       "      <td>병원</td>\n",
       "      <td>S01B07</td>\n",
       "      <td>내과/외과</td>\n",
       "      <td>Q86201</td>\n",
       "      <td>...</td>\n",
       "      <td>4679025022100540000046944</td>\n",
       "      <td>미래타워</td>\n",
       "      <td>전라남도 화순군 화순읍 자치샘로 48</td>\n",
       "      <td>519808.0</td>\n",
       "      <td>58118.0</td>\n",
       "      <td>NaN</td>\n",
       "      <td>3</td>\n",
       "      <td>308</td>\n",
       "      <td>126.986219</td>\n",
       "      <td>35.061121</td>\n",
       "    </tr>\n",
       "  </tbody>\n",
       "</table>\n",
       "<p>1 rows × 39 columns</p>\n",
       "</div>"
      ],
      "text/plain": [
       "         상가업소번호      상호명  지점명 상권업종대분류코드 상권업종대분류명 상권업종중분류코드 상권업종중분류명 상권업종소분류코드  \\\n",
       "34884  27327964  이든신체교정원  NaN         S       의료       S01       병원    S01B07   \n",
       "\n",
       "      상권업종소분류명 표준산업분류코드  ...                     건물관리번호   건물명  \\\n",
       "34884    내과/외과   Q86201  ...  4679025022100540000046944  미래타워   \n",
       "\n",
       "                      도로명주소     구우편번호    신우편번호  동정보 층정보  호정보          경도  \\\n",
       "34884  전라남도 화순군 화순읍 자치샘로 48  519808.0  58118.0  NaN   3  308  126.986219   \n",
       "\n",
       "              위도  \n",
       "34884  35.061121  \n",
       "\n",
       "[1 rows x 39 columns]"
      ]
     },
     "execution_count": 7,
     "metadata": {},
     "output_type": "execute_result"
    }
   ],
   "source": [
    "# sample 로 미리보기를 합니다.\n",
    "df.sample()"
   ]
  },
  {
   "cell_type": "markdown",
   "metadata": {
    "id": "J97ampuTvkZ4"
   },
   "source": [
    "## 데이터 요약하기"
   ]
  },
  {
   "cell_type": "markdown",
   "metadata": {
    "id": "jhDfpx61vkZ4"
   },
   "source": [
    "### 요약정보"
   ]
  },
  {
   "cell_type": "code",
   "execution_count": 8,
   "metadata": {
    "id": "cn60Yo8yvkZ4",
    "outputId": "f32079cd-a3e4-4b4e-d42a-dca9a2147b40"
   },
   "outputs": [
    {
     "name": "stdout",
     "output_type": "stream",
     "text": [
      "<class 'pandas.core.frame.DataFrame'>\n",
      "RangeIndex: 91335 entries, 0 to 91334\n",
      "Data columns (total 39 columns):\n",
      " #   Column     Non-Null Count  Dtype  \n",
      "---  ------     --------------  -----  \n",
      " 0   상가업소번호     91335 non-null  int64  \n",
      " 1   상호명        91335 non-null  object \n",
      " 2   지점명        1346 non-null   object \n",
      " 3   상권업종대분류코드  91335 non-null  object \n",
      " 4   상권업종대분류명   91335 non-null  object \n",
      " 5   상권업종중분류코드  91335 non-null  object \n",
      " 6   상권업종중분류명   91335 non-null  object \n",
      " 7   상권업종소분류코드  91335 non-null  object \n",
      " 8   상권업종소분류명   91335 non-null  object \n",
      " 9   표준산업분류코드   86413 non-null  object \n",
      " 10  표준산업분류명    86413 non-null  object \n",
      " 11  시도코드       90956 non-null  float64\n",
      " 12  시도명        90956 non-null  object \n",
      " 13  시군구코드      90956 non-null  float64\n",
      " 14  시군구명       90956 non-null  object \n",
      " 15  행정동코드      91335 non-null  int64  \n",
      " 16  행정동명       90956 non-null  object \n",
      " 17  법정동코드      91280 non-null  float64\n",
      " 18  법정동명       91280 non-null  object \n",
      " 19  지번코드       91335 non-null  int64  \n",
      " 20  대지구분코드     91335 non-null  int64  \n",
      " 21  대지구분명      91335 non-null  object \n",
      " 22  지번본번지      91335 non-null  int64  \n",
      " 23  지번부번지      72079 non-null  float64\n",
      " 24  지번주소       91335 non-null  object \n",
      " 25  도로명코드      91335 non-null  int64  \n",
      " 26  도로명        91335 non-null  object \n",
      " 27  건물본번지      91335 non-null  int64  \n",
      " 28  건물부번지      10604 non-null  float64\n",
      " 29  건물관리번호     91335 non-null  object \n",
      " 30  건물명        46453 non-null  object \n",
      " 31  도로명주소      91335 non-null  object \n",
      " 32  구우편번호      91323 non-null  float64\n",
      " 33  신우편번호      91333 non-null  float64\n",
      " 34  동정보        7406 non-null   object \n",
      " 35  층정보        44044 non-null  object \n",
      " 36  호정보        15551 non-null  object \n",
      " 37  경도         91335 non-null  float64\n",
      " 38  위도         91335 non-null  float64\n",
      "dtypes: float64(9), int64(7), object(23)\n",
      "memory usage: 27.2+ MB\n"
     ]
    }
   ],
   "source": [
    "# info로 데이터의 요약을 봅니다.\n",
    "df.info()"
   ]
  },
  {
   "cell_type": "markdown",
   "metadata": {},
   "source": [
    "\n",
    "이 데이터는 27MB 크기라는 것을 확인할 수 있습니다. \n",
    " \n",
    "데이터 형식을 볼 수 있는데 int64는 정수형, object는 문자열, float는 소수점이 들어간 숫자입니다.\n",
    " \n",
    "column이 39개가 있습니다.\n",
    "\n",
    "- 어떤 컬럼(상가업소번호)은 91335개의 데이터가 있는데 어떤 컬럼(지점명)은 1346개로 숫자가 차이가 있습니다.\n",
    "- 이는 **결측치가 있다**는 뜻입니다. "
   ]
  },
  {
   "cell_type": "markdown",
   "metadata": {
    "id": "TXaF-g7XvkZ5"
   },
   "source": [
    "### 컬럼명 보기"
   ]
  },
  {
   "cell_type": "code",
   "execution_count": 9,
   "metadata": {
    "id": "c8nIO9FGvkZ5",
    "outputId": "e59d5a7b-b2c5-45b0-c494-ac977da0b952"
   },
   "outputs": [
    {
     "data": {
      "text/plain": [
       "Index(['상가업소번호', '상호명', '지점명', '상권업종대분류코드', '상권업종대분류명', '상권업종중분류코드',\n",
       "       '상권업종중분류명', '상권업종소분류코드', '상권업종소분류명', '표준산업분류코드', '표준산업분류명', '시도코드',\n",
       "       '시도명', '시군구코드', '시군구명', '행정동코드', '행정동명', '법정동코드', '법정동명', '지번코드',\n",
       "       '대지구분코드', '대지구분명', '지번본번지', '지번부번지', '지번주소', '도로명코드', '도로명', '건물본번지',\n",
       "       '건물부번지', '건물관리번호', '건물명', '도로명주소', '구우편번호', '신우편번호', '동정보', '층정보',\n",
       "       '호정보', '경도', '위도'],\n",
       "      dtype='object')"
      ]
     },
     "execution_count": 9,
     "metadata": {},
     "output_type": "execute_result"
    }
   ],
   "source": [
    "# 컬럼명만 출력해 봅니다.\n",
    "df.columns"
   ]
  },
  {
   "cell_type": "markdown",
   "metadata": {
    "id": "5aGMSviUvkZ5"
   },
   "source": [
    "### 데이터 타입"
   ]
  },
  {
   "cell_type": "code",
   "execution_count": 10,
   "metadata": {
    "id": "K_QX9hM6vkZ5",
    "outputId": "f478e0cf-66e5-49f8-800d-6e92a5d6595c"
   },
   "outputs": [
    {
     "data": {
      "text/plain": [
       "상가업소번호         int64\n",
       "상호명           object\n",
       "지점명           object\n",
       "상권업종대분류코드     object\n",
       "상권업종대분류명      object\n",
       "상권업종중분류코드     object\n",
       "상권업종중분류명      object\n",
       "상권업종소분류코드     object\n",
       "상권업종소분류명      object\n",
       "표준산업분류코드      object\n",
       "표준산업분류명       object\n",
       "시도코드         float64\n",
       "시도명           object\n",
       "시군구코드        float64\n",
       "시군구명          object\n",
       "행정동코드          int64\n",
       "행정동명          object\n",
       "법정동코드        float64\n",
       "법정동명          object\n",
       "지번코드           int64\n",
       "대지구분코드         int64\n",
       "대지구분명         object\n",
       "지번본번지          int64\n",
       "지번부번지        float64\n",
       "지번주소          object\n",
       "도로명코드          int64\n",
       "도로명           object\n",
       "건물본번지          int64\n",
       "건물부번지        float64\n",
       "건물관리번호        object\n",
       "건물명           object\n",
       "도로명주소         object\n",
       "구우편번호        float64\n",
       "신우편번호        float64\n",
       "동정보           object\n",
       "층정보           object\n",
       "호정보           object\n",
       "경도           float64\n",
       "위도           float64\n",
       "dtype: object"
      ]
     },
     "execution_count": 10,
     "metadata": {},
     "output_type": "execute_result"
    }
   ],
   "source": [
    "# 데이터 타입만 출력합니다.\n",
    "df.dtypes"
   ]
  },
  {
   "cell_type": "markdown",
   "metadata": {
    "id": "gWg1RYhCvkZ6"
   },
   "source": [
    "## 결측치"
   ]
  },
  {
   "cell_type": "code",
   "execution_count": 11,
   "metadata": {
    "id": "dNePcQ0uvkZ6",
    "outputId": "3976e4d7-ae8f-47c0-a6fe-c2cbbbf7aa59"
   },
   "outputs": [],
   "source": [
    "# isnull().sum()을 해서 각 column 별 결측치의 개수를 확인합니다.\n",
    "\n",
    "# boolean indexing True는 1이니 isnull()을 하여 해당 데이터가 결측치라면 True를 출력하고, sum()은 True의 개수(NULL의 개수)를 세줍니다.\n",
    "\n",
    "null_count = df.isnull().sum()"
   ]
  },
  {
   "cell_type": "code",
   "execution_count": 12,
   "metadata": {},
   "outputs": [
    {
     "name": "stdout",
     "output_type": "stream",
     "text": [
      "상가업소번호           0\n",
      "상호명              0\n",
      "지점명          89989\n",
      "상권업종대분류코드        0\n",
      "상권업종대분류명         0\n",
      "상권업종중분류코드        0\n",
      "상권업종중분류명         0\n",
      "상권업종소분류코드        0\n",
      "상권업종소분류명         0\n",
      "표준산업분류코드      4922\n",
      "표준산업분류명       4922\n",
      "시도코드           379\n",
      "시도명            379\n",
      "시군구코드          379\n",
      "시군구명           379\n",
      "행정동코드            0\n",
      "행정동명           379\n",
      "법정동코드           55\n",
      "법정동명            55\n",
      "지번코드             0\n",
      "대지구분코드           0\n",
      "대지구분명            0\n",
      "지번본번지            0\n",
      "지번부번지        19256\n",
      "지번주소             0\n",
      "도로명코드            0\n",
      "도로명              0\n",
      "건물본번지            0\n",
      "건물부번지        80731\n",
      "건물관리번호           0\n",
      "건물명          44882\n",
      "도로명주소            0\n",
      "구우편번호           12\n",
      "신우편번호            2\n",
      "동정보          83929\n",
      "층정보          47291\n",
      "호정보          75784\n",
      "경도               0\n",
      "위도               0\n",
      "dtype: int64 <class 'pandas.core.series.Series'> (39,)\n"
     ]
    }
   ],
   "source": [
    "print(null_count,type(null_count),null_count.shape)"
   ]
  },
  {
   "cell_type": "code",
   "execution_count": 13,
   "metadata": {},
   "outputs": [
    {
     "data": {
      "text/plain": [
       "<AxesSubplot:>"
      ]
     },
     "execution_count": 13,
     "metadata": {},
     "output_type": "execute_result"
    },
    {
     "data": {
      "image/png": "[encoded data removed]",
      "text/plain": [
       "<Figure size 432x288 with 1 Axes>"
      ]
     },
     "metadata": {
      "image/png": {
       "height": 248,
       "width": 390
      },
      "needs_background": "light"
     },
     "output_type": "display_data"
    }
   ],
   "source": [
    "# 결측치 기본 그래프\n",
    "# 결측치의 갯수를 시각화합니다. 기본값으로 line 그래프를 그려줍니다.\n",
    "\n",
    "null_count.plot()"
   ]
  },
  {
   "cell_type": "code",
   "execution_count": 14,
   "metadata": {
    "id": "WUMg9_uJvkZ6",
    "outputId": "cb5479fd-e6eb-44bc-8a10-e6d02bf3a760"
   },
   "outputs": [
    {
     "data": {
      "text/plain": [
       "<AxesSubplot:>"
      ]
     },
     "execution_count": 14,
     "metadata": {},
     "output_type": "execute_result"
    },
    {
     "data": {
      "image/png": "[encoded data removed]",
      "text/plain": [
       "<Figure size 720x504 with 1 Axes>"
      ]
     },
     "metadata": {
      "image/png": {
       "height": 484,
       "width": 615
      },
      "needs_background": "light"
     },
     "output_type": "display_data"
    }
   ],
   "source": [
    "# 위에서 구한 결측치를 .plot.bar 를 통해 막대그래프로 표현합니다. \n",
    "# figsize : figure size\n",
    "# rot     : rot를 옵션으로 지정해주면 글자들이 회전하여 표시\n",
    "\n",
    "null_count.plot.bar(figsize=(10, 7),rot=60)"
   ]
  },
  {
   "cell_type": "code",
   "execution_count": 15,
   "metadata": {},
   "outputs": [
    {
     "data": {
      "text/plain": [
       "<AxesSubplot:>"
      ]
     },
     "execution_count": 15,
     "metadata": {},
     "output_type": "execute_result"
    },
    {
     "data": {
      "image/png": "[encoded data removed]",
      "text/plain": [
       "<Figure size 360x504 with 1 Axes>"
      ]
     },
     "metadata": {
      "image/png": {
       "height": 411,
       "width": 390
      },
      "needs_background": "light"
     },
     "output_type": "display_data"
    }
   ],
   "source": [
    "# 위에서 구한 결측치를 .plot.barh 를 통해 세로형 막대그래프로 표현합니다. \n",
    "# barh()로 세로 막대형 그래프를 그리면 글씨를 보기에 더욱 좋습니다.\n",
    "\n",
    "null_count.plot.barh(figsize=(5, 7))"
   ]
  },
  {
   "cell_type": "markdown",
   "metadata": {},
   "source": [
    "### Series to DataFrame\n",
    "\n",
    "- reset_index를 활용하면 데이터 프레임 형태로 변환이 됩니다."
   ]
  },
  {
   "cell_type": "code",
   "execution_count": 16,
   "metadata": {
    "id": "rwcS2zRHvkZ6",
    "outputId": "f82f1b2f-e765-4070-dde7-447fe27b27e2"
   },
   "outputs": [
    {
     "data": {
      "text/html": [
       "<div>\n",
       "<style scoped>\n",
       "    .dataframe tbody tr th:only-of-type {\n",
       "        vertical-align: middle;\n",
       "    }\n",
       "\n",
       "    .dataframe tbody tr th {\n",
       "        vertical-align: top;\n",
       "    }\n",
       "\n",
       "    .dataframe thead th {\n",
       "        text-align: right;\n",
       "    }\n",
       "</style>\n",
       "<table border=\"1\" class=\"dataframe\">\n",
       "  <thead>\n",
       "    <tr style=\"text-align: right;\">\n",
       "      <th></th>\n",
       "      <th>index</th>\n",
       "      <th>0</th>\n",
       "    </tr>\n",
       "  </thead>\n",
       "  <tbody>\n",
       "    <tr>\n",
       "      <th>0</th>\n",
       "      <td>상가업소번호</td>\n",
       "      <td>0</td>\n",
       "    </tr>\n",
       "    <tr>\n",
       "      <th>1</th>\n",
       "      <td>상호명</td>\n",
       "      <td>0</td>\n",
       "    </tr>\n",
       "    <tr>\n",
       "      <th>2</th>\n",
       "      <td>지점명</td>\n",
       "      <td>89989</td>\n",
       "    </tr>\n",
       "    <tr>\n",
       "      <th>3</th>\n",
       "      <td>상권업종대분류코드</td>\n",
       "      <td>0</td>\n",
       "    </tr>\n",
       "    <tr>\n",
       "      <th>4</th>\n",
       "      <td>상권업종대분류명</td>\n",
       "      <td>0</td>\n",
       "    </tr>\n",
       "  </tbody>\n",
       "</table>\n",
       "</div>"
      ],
      "text/plain": [
       "       index      0\n",
       "0     상가업소번호      0\n",
       "1        상호명      0\n",
       "2        지점명  89989\n",
       "3  상권업종대분류코드      0\n",
       "4   상권업종대분류명      0"
      ]
     },
     "execution_count": 16,
     "metadata": {},
     "output_type": "execute_result"
    }
   ],
   "source": [
    "# 위에서 계산한 결측치 수를 reset_index 를 통해 데이터프레임 으로 만들어 줍니다.\n",
    "# df_null_count 변수에 결과를 담아서 head 로 미리보기를 합니다.\n",
    "\n",
    "null_count    = df.isnull().sum() # series\n",
    "df_null_count = df.isnull().sum().reset_index() # df\n",
    "df_null_count.head()"
   ]
  },
  {
   "cell_type": "code",
   "execution_count": 17,
   "metadata": {},
   "outputs": [
    {
     "name": "stdout",
     "output_type": "stream",
     "text": [
      "        index      0\n",
      "0      상가업소번호      0\n",
      "1         상호명      0\n",
      "2         지점명  89989\n",
      "3   상권업종대분류코드      0\n",
      "4    상권업종대분류명      0\n",
      "5   상권업종중분류코드      0\n",
      "6    상권업종중분류명      0\n",
      "7   상권업종소분류코드      0\n",
      "8    상권업종소분류명      0\n",
      "9    표준산업분류코드   4922\n",
      "10    표준산업분류명   4922\n",
      "11       시도코드    379\n",
      "12        시도명    379\n",
      "13      시군구코드    379\n",
      "14       시군구명    379\n",
      "15      행정동코드      0\n",
      "16       행정동명    379\n",
      "17      법정동코드     55\n",
      "18       법정동명     55\n",
      "19       지번코드      0\n",
      "20     대지구분코드      0\n",
      "21      대지구분명      0\n",
      "22      지번본번지      0\n",
      "23      지번부번지  19256\n",
      "24       지번주소      0\n",
      "25      도로명코드      0\n",
      "26        도로명      0\n",
      "27      건물본번지      0\n",
      "28      건물부번지  80731\n",
      "29     건물관리번호      0\n",
      "30        건물명  44882\n",
      "31      도로명주소      0\n",
      "32      구우편번호     12\n",
      "33      신우편번호      2\n",
      "34        동정보  83929\n",
      "35        층정보  47291\n",
      "36        호정보  75784\n",
      "37         경도      0\n",
      "38         위도      0 <class 'pandas.core.frame.DataFrame'> (39, 2)\n"
     ]
    }
   ],
   "source": [
    "print(df_null_count,type(df_null_count),df_null_count.shape)"
   ]
  },
  {
   "cell_type": "markdown",
   "metadata": {
    "id": "G_jWPC_KvkZ7"
   },
   "source": [
    "## 컬럼명 변경하기"
   ]
  },
  {
   "cell_type": "code",
   "execution_count": 18,
   "metadata": {
    "id": "HIaTWhYFvkZ7",
    "outputId": "5877a6b0-43f6-4202-986a-2a3143c8fcab"
   },
   "outputs": [
    {
     "data": {
      "text/html": [
       "<div>\n",
       "<style scoped>\n",
       "    .dataframe tbody tr th:only-of-type {\n",
       "        vertical-align: middle;\n",
       "    }\n",
       "\n",
       "    .dataframe tbody tr th {\n",
       "        vertical-align: top;\n",
       "    }\n",
       "\n",
       "    .dataframe thead th {\n",
       "        text-align: right;\n",
       "    }\n",
       "</style>\n",
       "<table border=\"1\" class=\"dataframe\">\n",
       "  <thead>\n",
       "    <tr style=\"text-align: right;\">\n",
       "      <th></th>\n",
       "      <th>컬럼명</th>\n",
       "      <th>결측치수</th>\n",
       "    </tr>\n",
       "  </thead>\n",
       "  <tbody>\n",
       "    <tr>\n",
       "      <th>0</th>\n",
       "      <td>상가업소번호</td>\n",
       "      <td>0</td>\n",
       "    </tr>\n",
       "    <tr>\n",
       "      <th>1</th>\n",
       "      <td>상호명</td>\n",
       "      <td>0</td>\n",
       "    </tr>\n",
       "    <tr>\n",
       "      <th>2</th>\n",
       "      <td>지점명</td>\n",
       "      <td>89989</td>\n",
       "    </tr>\n",
       "    <tr>\n",
       "      <th>3</th>\n",
       "      <td>상권업종대분류코드</td>\n",
       "      <td>0</td>\n",
       "    </tr>\n",
       "    <tr>\n",
       "      <th>4</th>\n",
       "      <td>상권업종대분류명</td>\n",
       "      <td>0</td>\n",
       "    </tr>\n",
       "  </tbody>\n",
       "</table>\n",
       "</div>"
      ],
      "text/plain": [
       "         컬럼명   결측치수\n",
       "0     상가업소번호      0\n",
       "1        상호명      0\n",
       "2        지점명  89989\n",
       "3  상권업종대분류코드      0\n",
       "4   상권업종대분류명      0"
      ]
     },
     "execution_count": 18,
     "metadata": {},
     "output_type": "execute_result"
    }
   ],
   "source": [
    "# df_null_count 변수에 담겨있는 컬럼의 이름을 \"컬럼명\", \"결측치수\"로 변경해 줍니다.\n",
    "\n",
    "df_null_count.columns = [\"컬럼명\", \"결측치수\"]\n",
    "df_null_count.head()"
   ]
  },
  {
   "cell_type": "markdown",
   "metadata": {
    "id": "VPDV0csbvkZ7"
   },
   "source": [
    "## 정렬하기"
   ]
  },
  {
   "cell_type": "code",
   "execution_count": 19,
   "metadata": {
    "id": "LHLnoCwBvkZ7",
    "outputId": "80b9f40e-7b2f-4e71-8331-411e73d10f1f"
   },
   "outputs": [
    {
     "data": {
      "text/html": [
       "<div>\n",
       "<style scoped>\n",
       "    .dataframe tbody tr th:only-of-type {\n",
       "        vertical-align: middle;\n",
       "    }\n",
       "\n",
       "    .dataframe tbody tr th {\n",
       "        vertical-align: top;\n",
       "    }\n",
       "\n",
       "    .dataframe thead th {\n",
       "        text-align: right;\n",
       "    }\n",
       "</style>\n",
       "<table border=\"1\" class=\"dataframe\">\n",
       "  <thead>\n",
       "    <tr style=\"text-align: right;\">\n",
       "      <th></th>\n",
       "      <th>컬럼명</th>\n",
       "      <th>결측치수</th>\n",
       "    </tr>\n",
       "  </thead>\n",
       "  <tbody>\n",
       "    <tr>\n",
       "      <th>2</th>\n",
       "      <td>지점명</td>\n",
       "      <td>89989</td>\n",
       "    </tr>\n",
       "    <tr>\n",
       "      <th>34</th>\n",
       "      <td>동정보</td>\n",
       "      <td>83929</td>\n",
       "    </tr>\n",
       "    <tr>\n",
       "      <th>28</th>\n",
       "      <td>건물부번지</td>\n",
       "      <td>80731</td>\n",
       "    </tr>\n",
       "    <tr>\n",
       "      <th>36</th>\n",
       "      <td>호정보</td>\n",
       "      <td>75784</td>\n",
       "    </tr>\n",
       "    <tr>\n",
       "      <th>35</th>\n",
       "      <td>층정보</td>\n",
       "      <td>47291</td>\n",
       "    </tr>\n",
       "    <tr>\n",
       "      <th>30</th>\n",
       "      <td>건물명</td>\n",
       "      <td>44882</td>\n",
       "    </tr>\n",
       "    <tr>\n",
       "      <th>23</th>\n",
       "      <td>지번부번지</td>\n",
       "      <td>19256</td>\n",
       "    </tr>\n",
       "    <tr>\n",
       "      <th>9</th>\n",
       "      <td>표준산업분류코드</td>\n",
       "      <td>4922</td>\n",
       "    </tr>\n",
       "    <tr>\n",
       "      <th>10</th>\n",
       "      <td>표준산업분류명</td>\n",
       "      <td>4922</td>\n",
       "    </tr>\n",
       "    <tr>\n",
       "      <th>11</th>\n",
       "      <td>시도코드</td>\n",
       "      <td>379</td>\n",
       "    </tr>\n",
       "  </tbody>\n",
       "</table>\n",
       "</div>"
      ],
      "text/plain": [
       "         컬럼명   결측치수\n",
       "2        지점명  89989\n",
       "34       동정보  83929\n",
       "28     건물부번지  80731\n",
       "36       호정보  75784\n",
       "35       층정보  47291\n",
       "30       건물명  44882\n",
       "23     지번부번지  19256\n",
       "9   표준산업분류코드   4922\n",
       "10   표준산업분류명   4922\n",
       "11      시도코드    379"
      ]
     },
     "execution_count": 19,
     "metadata": {},
     "output_type": "execute_result"
    }
   ],
   "source": [
    "# 결측치 수 가 많은 컬럼들을 제거하기 위하여 내림차순 정렬 \n",
    "\n",
    "df_null_head = df_null_count.sort_values(by=\"결측치수\", ascending=False).head(10)\n",
    "df_null_head"
   ]
  },
  {
   "cell_type": "markdown",
   "metadata": {
    "id": "tvbU68zVvkZ7"
   },
   "source": [
    "## 특정 컬럼만 불러오기"
   ]
  },
  {
   "cell_type": "code",
   "execution_count": 20,
   "metadata": {
    "id": "NmHSfQIVvkZ7",
    "outputId": "1da6f915-e66d-4322-8c63-904286247c36"
   },
   "outputs": [
    {
     "data": {
      "text/plain": [
       "0    NaN\n",
       "1    NaN\n",
       "2    NaN\n",
       "3    NaN\n",
       "4    수지점\n",
       "Name: 지점명, dtype: object"
      ]
     },
     "execution_count": 20,
     "metadata": {},
     "output_type": "execute_result"
    }
   ],
   "source": [
    "# 결측치의 개수가 가장 많은 '지점명' 컬럼을 불러옵니다.\n",
    "# NaN : Not a Number의 약자로 결측치로 보면 됩니다.\n",
    "\n",
    "df[\"지점명\"].head()\n"
   ]
  },
  {
   "cell_type": "code",
   "execution_count": 25,
   "metadata": {
    "id": "ZDtgzkuvvkZ8",
    "outputId": "d90c8bda-8c99-46b8-8feb-78f0397fbdc3"
   },
   "outputs": [
    {
     "data": {
      "text/plain": [
       "array(['지점명', '동정보', '건물부번지', '호정보', '층정보', '건물명', '지번부번지', '표준산업분류코드',\n",
       "       '표준산업분류명', '시도코드'], dtype=object)"
      ]
     },
     "execution_count": 25,
     "metadata": {},
     "output_type": "execute_result"
    }
   ],
   "source": [
    "# 결측치 수가 많은 컬럼 들 \n",
    "\n",
    "# values to ndarray (리스트화)\n",
    "\n",
    "\n",
    "# drop_columns = df_null_head[\"컬럼명\"] # series\n",
    "# drop_columns = df_null_head[\"컬럼명\"].tolist() # list\n",
    "\n",
    "drop_columns = df_null_head[\"컬럼명\"].values # ndarray\n",
    "drop_columns"
   ]
  },
  {
   "cell_type": "code",
   "execution_count": 30,
   "metadata": {
    "id": "wxnHizqTvkZ8",
    "outputId": "2b7cb69a-576d-451f-d413-5b653ff948cb"
   },
   "outputs": [
    {
     "data": {
      "text/html": [
       "<div>\n",
       "<style scoped>\n",
       "    .dataframe tbody tr th:only-of-type {\n",
       "        vertical-align: middle;\n",
       "    }\n",
       "\n",
       "    .dataframe tbody tr th {\n",
       "        vertical-align: top;\n",
       "    }\n",
       "\n",
       "    .dataframe thead th {\n",
       "        text-align: right;\n",
       "    }\n",
       "</style>\n",
       "<table border=\"1\" class=\"dataframe\">\n",
       "  <thead>\n",
       "    <tr style=\"text-align: right;\">\n",
       "      <th></th>\n",
       "      <th>지점명</th>\n",
       "      <th>동정보</th>\n",
       "      <th>건물부번지</th>\n",
       "      <th>호정보</th>\n",
       "      <th>층정보</th>\n",
       "      <th>건물명</th>\n",
       "      <th>지번부번지</th>\n",
       "      <th>표준산업분류코드</th>\n",
       "      <th>표준산업분류명</th>\n",
       "      <th>시도코드</th>\n",
       "    </tr>\n",
       "  </thead>\n",
       "  <tbody>\n",
       "    <tr>\n",
       "      <th>0</th>\n",
       "      <td>NaN</td>\n",
       "      <td>NaN</td>\n",
       "      <td>NaN</td>\n",
       "      <td>NaN</td>\n",
       "      <td>NaN</td>\n",
       "      <td>산호한양아파트</td>\n",
       "      <td>NaN</td>\n",
       "      <td>Q86201</td>\n",
       "      <td>일반 의원</td>\n",
       "      <td>41.0</td>\n",
       "    </tr>\n",
       "    <tr>\n",
       "      <th>1</th>\n",
       "      <td>NaN</td>\n",
       "      <td>NaN</td>\n",
       "      <td>NaN</td>\n",
       "      <td>NaN</td>\n",
       "      <td>4</td>\n",
       "      <td>NaN</td>\n",
       "      <td>14.0</td>\n",
       "      <td>Q86201</td>\n",
       "      <td>일반 의원</td>\n",
       "      <td>11.0</td>\n",
       "    </tr>\n",
       "    <tr>\n",
       "      <th>2</th>\n",
       "      <td>NaN</td>\n",
       "      <td>NaN</td>\n",
       "      <td>NaN</td>\n",
       "      <td>NaN</td>\n",
       "      <td>NaN</td>\n",
       "      <td>한라프라자</td>\n",
       "      <td>1.0</td>\n",
       "      <td>Q86201</td>\n",
       "      <td>일반 의원</td>\n",
       "      <td>41.0</td>\n",
       "    </tr>\n",
       "    <tr>\n",
       "      <th>3</th>\n",
       "      <td>NaN</td>\n",
       "      <td>NaN</td>\n",
       "      <td>NaN</td>\n",
       "      <td>NaN</td>\n",
       "      <td>5</td>\n",
       "      <td>NaN</td>\n",
       "      <td>1.0</td>\n",
       "      <td>NaN</td>\n",
       "      <td>NaN</td>\n",
       "      <td>26.0</td>\n",
       "    </tr>\n",
       "    <tr>\n",
       "      <th>4</th>\n",
       "      <td>수지점</td>\n",
       "      <td>NaN</td>\n",
       "      <td>NaN</td>\n",
       "      <td>NaN</td>\n",
       "      <td>1</td>\n",
       "      <td>NaN</td>\n",
       "      <td>2.0</td>\n",
       "      <td>G47811</td>\n",
       "      <td>의약품 및 의료용품 소매업</td>\n",
       "      <td>41.0</td>\n",
       "    </tr>\n",
       "  </tbody>\n",
       "</table>\n",
       "</div>"
      ],
      "text/plain": [
       "   지점명  동정보  건물부번지  호정보  층정보      건물명  지번부번지 표준산업분류코드         표준산업분류명  시도코드\n",
       "0  NaN  NaN    NaN  NaN  NaN  산호한양아파트    NaN   Q86201           일반 의원  41.0\n",
       "1  NaN  NaN    NaN  NaN    4      NaN   14.0   Q86201           일반 의원  11.0\n",
       "2  NaN  NaN    NaN  NaN  NaN    한라프라자    1.0   Q86201           일반 의원  41.0\n",
       "3  NaN  NaN    NaN  NaN    5      NaN    1.0      NaN             NaN  26.0\n",
       "4  수지점  NaN    NaN  NaN    1      NaN    2.0   G47811  의약품 및 의료용품 소매업  41.0"
      ]
     },
     "execution_count": 30,
     "metadata": {},
     "output_type": "execute_result"
    }
   ],
   "source": [
    "# df 데이터프레임에서 drop_columns 변수로 해당 컬럼 정보(결측치수가 많은 컬럼들)만 가져옵니다.\n",
    "\n",
    "df[drop_columns].head()"
   ]
  },
  {
   "cell_type": "markdown",
   "metadata": {
    "id": "4X7cx2ZjvkZ8"
   },
   "source": [
    "## 제거하기"
   ]
  },
  {
   "cell_type": "code",
   "execution_count": 31,
   "metadata": {
    "id": "ZoB3-90wvkZ8",
    "outputId": "141bf0bd-ad2d-4d91-fedd-830dd056bd2d"
   },
   "outputs": [
    {
     "name": "stdout",
     "output_type": "stream",
     "text": [
      "(91335, 39)\n",
      "(91335, 29)\n"
     ]
    }
   ],
   "source": [
    "# 열을 기준으로 삭제해야 하기 때문에 axis = 1을 지정합니다. 행을 삭제하려면 0을 넣어야 합니다.\n",
    "\n",
    "print(df.shape)\n",
    "\n",
    "df = df.drop(columns=drop_columns, axis=1)\n",
    "\n",
    "print(df.shape)"
   ]
  },
  {
   "cell_type": "code",
   "execution_count": 32,
   "metadata": {
    "id": "zn61ft7kvkZ8",
    "outputId": "6a13c3b5-e83e-48fa-b5ac-e4196af58bdd"
   },
   "outputs": [
    {
     "name": "stdout",
     "output_type": "stream",
     "text": [
      "<class 'pandas.core.frame.DataFrame'>\n",
      "RangeIndex: 91335 entries, 0 to 91334\n",
      "Data columns (total 29 columns):\n",
      " #   Column     Non-Null Count  Dtype  \n",
      "---  ------     --------------  -----  \n",
      " 0   상가업소번호     91335 non-null  int64  \n",
      " 1   상호명        91335 non-null  object \n",
      " 2   상권업종대분류코드  91335 non-null  object \n",
      " 3   상권업종대분류명   91335 non-null  object \n",
      " 4   상권업종중분류코드  91335 non-null  object \n",
      " 5   상권업종중분류명   91335 non-null  object \n",
      " 6   상권업종소분류코드  91335 non-null  object \n",
      " 7   상권업종소분류명   91335 non-null  object \n",
      " 8   시도명        90956 non-null  object \n",
      " 9   시군구코드      90956 non-null  float64\n",
      " 10  시군구명       90956 non-null  object \n",
      " 11  행정동코드      91335 non-null  int64  \n",
      " 12  행정동명       90956 non-null  object \n",
      " 13  법정동코드      91280 non-null  float64\n",
      " 14  법정동명       91280 non-null  object \n",
      " 15  지번코드       91335 non-null  int64  \n",
      " 16  대지구분코드     91335 non-null  int64  \n",
      " 17  대지구분명      91335 non-null  object \n",
      " 18  지번본번지      91335 non-null  int64  \n",
      " 19  지번주소       91335 non-null  object \n",
      " 20  도로명코드      91335 non-null  int64  \n",
      " 21  도로명        91335 non-null  object \n",
      " 22  건물본번지      91335 non-null  int64  \n",
      " 23  건물관리번호     91335 non-null  object \n",
      " 24  도로명주소      91335 non-null  object \n",
      " 25  구우편번호      91323 non-null  float64\n",
      " 26  신우편번호      91333 non-null  float64\n",
      " 27  경도         91335 non-null  float64\n",
      " 28  위도         91335 non-null  float64\n",
      "dtypes: float64(6), int64(7), object(16)\n",
      "memory usage: 20.2+ MB\n"
     ]
    }
   ],
   "source": [
    "df.info()"
   ]
  },
  {
   "cell_type": "markdown",
   "metadata": {},
   "source": [
    "- **drop을 한 후, 39개였던 열이 29개가 되었고, 메모리도 20MB로 줄어들었습니다.**\n"
   ]
  },
  {
   "cell_type": "markdown",
   "metadata": {
    "id": "qiDw7_sDvkZ8"
   },
   "source": [
    "## 기초 통계값 보기"
   ]
  },
  {
   "cell_type": "markdown",
   "metadata": {
    "id": "-ej__4iovkZ9"
   },
   "source": [
    "### 기초 통계 수치"
   ]
  },
  {
   "cell_type": "code",
   "execution_count": 33,
   "metadata": {},
   "outputs": [
    {
     "data": {
      "text/plain": [
       "dtype('float64')"
      ]
     },
     "execution_count": 33,
     "metadata": {},
     "output_type": "execute_result"
    }
   ],
   "source": [
    "# 데이터 타입 확인\n",
    "df[\"위도\"].dtypes"
   ]
  },
  {
   "cell_type": "code",
   "execution_count": 34,
   "metadata": {
    "id": "JR27bT0HvkZ9",
    "outputId": "c4e568d9-af99-4cde-8aa8-23945f828f06"
   },
   "outputs": [
    {
     "data": {
      "text/plain": [
       "36.62471119236673"
      ]
     },
     "execution_count": 34,
     "metadata": {},
     "output_type": "execute_result"
    }
   ],
   "source": [
    "# 평균값\n",
    "df[\"위도\"].mean()"
   ]
  },
  {
   "cell_type": "code",
   "execution_count": 36,
   "metadata": {
    "id": "LdcNLhiGvkZ9",
    "outputId": "c873409b-7e0c-452a-cd43-7cfe6584ade0"
   },
   "outputs": [
    {
     "data": {
      "text/plain": [
       "37.23465231770329"
      ]
     },
     "execution_count": 36,
     "metadata": {},
     "output_type": "execute_result"
    }
   ],
   "source": [
    "# 중앙값\n",
    "# 중앙값은 데이터의 중간에 있는 값입니다.\n",
    "\n",
    "\n",
    "df[\"위도\"].median()"
   ]
  },
  {
   "cell_type": "code",
   "execution_count": 37,
   "metadata": {
    "id": "mwG22KX1vkZ9",
    "outputId": "5dabc901-95e1-4e8e-d5b7-7e72f66c9485"
   },
   "outputs": [
    {
     "data": {
      "text/plain": [
       "38.499658570559795"
      ]
     },
     "execution_count": 37,
     "metadata": {},
     "output_type": "execute_result"
    }
   ],
   "source": [
    "# 최댓값\n",
    "df[\"위도\"].max()"
   ]
  },
  {
   "cell_type": "code",
   "execution_count": 38,
   "metadata": {
    "id": "R_BWhCqOvkZ9",
    "outputId": "a3732cf1-b852-430a-a09b-4d0919c2a0bb"
   },
   "outputs": [
    {
     "data": {
      "text/plain": [
       "33.2192896688307"
      ]
     },
     "execution_count": 38,
     "metadata": {},
     "output_type": "execute_result"
    }
   ],
   "source": [
    "# 최솟값\n",
    "df[\"위도\"].min()"
   ]
  },
  {
   "cell_type": "code",
   "execution_count": 39,
   "metadata": {
    "id": "O_bspbtivkZ9",
    "outputId": "3f0a32e7-79d5-42ab-f096-761d3e9c77dc"
   },
   "outputs": [
    {
     "data": {
      "text/plain": [
       "91335"
      ]
     },
     "execution_count": 39,
     "metadata": {},
     "output_type": "execute_result"
    }
   ],
   "source": [
    "# 갯수\n",
    "df[\"위도\"].count()"
   ]
  },
  {
   "cell_type": "markdown",
   "metadata": {
    "id": "rppov4_KvkZ-"
   },
   "source": [
    "### 기초통계값 요약하기 - describe\n",
    "\n",
    "describe 를 사용하면 데이터를 요약해 볼 수 있습니다.\n",
    "\n",
    "기본적으로 수치형 데이터를 요약해서 보여줍니다.\n",
    "\n",
    "데이터의 갯수, 평균, 표준편차, 최솟값, \n",
    "\n",
    "1사분위수(25%), 2사분위수(50%), 3사분위수(75%), 최댓값을 볼 수 있습니다."
   ]
  },
  {
   "cell_type": "code",
   "execution_count": 40,
   "metadata": {
    "id": "Qif8g8rpvkZ-",
    "outputId": "edadea0e-6a79-42dc-be1e-bd7016492cc4"
   },
   "outputs": [
    {
     "data": {
      "text/plain": [
       "count    91335.000000\n",
       "mean        36.624711\n",
       "std          1.041361\n",
       "min         33.219290\n",
       "25%         35.811830\n",
       "50%         37.234652\n",
       "75%         37.507463\n",
       "max         38.499659\n",
       "Name: 위도, dtype: float64"
      ]
     },
     "execution_count": 40,
     "metadata": {},
     "output_type": "execute_result"
    }
   ],
   "source": [
    "# 위도를 describe로 요약해 봅니다.\n",
    "\n",
    "df[\"위도\"].describe()"
   ]
  },
  {
   "cell_type": "code",
   "execution_count": 41,
   "metadata": {
    "id": "CTfgIm-nvkZ-",
    "outputId": "52e7f017-8eba-48a0-df75-746d940d9591"
   },
   "outputs": [
    {
     "data": {
      "text/html": [
       "<div>\n",
       "<style scoped>\n",
       "    .dataframe tbody tr th:only-of-type {\n",
       "        vertical-align: middle;\n",
       "    }\n",
       "\n",
       "    .dataframe tbody tr th {\n",
       "        vertical-align: top;\n",
       "    }\n",
       "\n",
       "    .dataframe thead th {\n",
       "        text-align: right;\n",
       "    }\n",
       "</style>\n",
       "<table border=\"1\" class=\"dataframe\">\n",
       "  <thead>\n",
       "    <tr style=\"text-align: right;\">\n",
       "      <th></th>\n",
       "      <th>위도</th>\n",
       "      <th>경도</th>\n",
       "    </tr>\n",
       "  </thead>\n",
       "  <tbody>\n",
       "    <tr>\n",
       "      <th>count</th>\n",
       "      <td>91335.000000</td>\n",
       "      <td>91335.000000</td>\n",
       "    </tr>\n",
       "    <tr>\n",
       "      <th>mean</th>\n",
       "      <td>36.624711</td>\n",
       "      <td>127.487524</td>\n",
       "    </tr>\n",
       "    <tr>\n",
       "      <th>std</th>\n",
       "      <td>1.041361</td>\n",
       "      <td>0.842877</td>\n",
       "    </tr>\n",
       "    <tr>\n",
       "      <th>min</th>\n",
       "      <td>33.219290</td>\n",
       "      <td>124.717632</td>\n",
       "    </tr>\n",
       "    <tr>\n",
       "      <th>25%</th>\n",
       "      <td>35.811830</td>\n",
       "      <td>126.914297</td>\n",
       "    </tr>\n",
       "    <tr>\n",
       "      <th>50%</th>\n",
       "      <td>37.234652</td>\n",
       "      <td>127.084550</td>\n",
       "    </tr>\n",
       "    <tr>\n",
       "      <th>75%</th>\n",
       "      <td>37.507463</td>\n",
       "      <td>128.108919</td>\n",
       "    </tr>\n",
       "    <tr>\n",
       "      <th>max</th>\n",
       "      <td>38.499659</td>\n",
       "      <td>130.909912</td>\n",
       "    </tr>\n",
       "  </tbody>\n",
       "</table>\n",
       "</div>"
      ],
      "text/plain": [
       "                 위도            경도\n",
       "count  91335.000000  91335.000000\n",
       "mean      36.624711    127.487524\n",
       "std        1.041361      0.842877\n",
       "min       33.219290    124.717632\n",
       "25%       35.811830    126.914297\n",
       "50%       37.234652    127.084550\n",
       "75%       37.507463    128.108919\n",
       "max       38.499659    130.909912"
      ]
     },
     "execution_count": 41,
     "metadata": {},
     "output_type": "execute_result"
    }
   ],
   "source": [
    "# 2개의 컬럼을 describe 로 요약합니다.\n",
    "\n",
    "df[[\"위도\", \"경도\"]].describe()"
   ]
  },
  {
   "cell_type": "code",
   "execution_count": 45,
   "metadata": {},
   "outputs": [
    {
     "data": {
      "text/html": [
       "<div>\n",
       "<style scoped>\n",
       "    .dataframe tbody tr th:only-of-type {\n",
       "        vertical-align: middle;\n",
       "    }\n",
       "\n",
       "    .dataframe tbody tr th {\n",
       "        vertical-align: top;\n",
       "    }\n",
       "\n",
       "    .dataframe thead th {\n",
       "        text-align: right;\n",
       "    }\n",
       "</style>\n",
       "<table border=\"1\" class=\"dataframe\">\n",
       "  <thead>\n",
       "    <tr style=\"text-align: right;\">\n",
       "      <th></th>\n",
       "      <th>상가업소번호</th>\n",
       "      <th>시군구코드</th>\n",
       "      <th>행정동코드</th>\n",
       "      <th>법정동코드</th>\n",
       "      <th>지번코드</th>\n",
       "      <th>대지구분코드</th>\n",
       "      <th>지번본번지</th>\n",
       "      <th>도로명코드</th>\n",
       "      <th>건물본번지</th>\n",
       "      <th>구우편번호</th>\n",
       "      <th>신우편번호</th>\n",
       "      <th>경도</th>\n",
       "      <th>위도</th>\n",
       "    </tr>\n",
       "  </thead>\n",
       "  <tbody>\n",
       "    <tr>\n",
       "      <th>count</th>\n",
       "      <td>9.133500e+04</td>\n",
       "      <td>90956.000000</td>\n",
       "      <td>9.133500e+04</td>\n",
       "      <td>9.128000e+04</td>\n",
       "      <td>9.133500e+04</td>\n",
       "      <td>91335.000000</td>\n",
       "      <td>91335.000000</td>\n",
       "      <td>9.133500e+04</td>\n",
       "      <td>91335.000000</td>\n",
       "      <td>91323.000000</td>\n",
       "      <td>91333.00000</td>\n",
       "      <td>91335.000000</td>\n",
       "      <td>91335.000000</td>\n",
       "    </tr>\n",
       "    <tr>\n",
       "      <th>mean</th>\n",
       "      <td>2.121818e+07</td>\n",
       "      <td>32898.381877</td>\n",
       "      <td>3.293232e+09</td>\n",
       "      <td>3.293385e+09</td>\n",
       "      <td>3.293191e+18</td>\n",
       "      <td>1.001336</td>\n",
       "      <td>587.534549</td>\n",
       "      <td>3.293207e+11</td>\n",
       "      <td>251.200482</td>\n",
       "      <td>428432.911085</td>\n",
       "      <td>28085.47698</td>\n",
       "      <td>127.487524</td>\n",
       "      <td>36.624711</td>\n",
       "    </tr>\n",
       "    <tr>\n",
       "      <th>std</th>\n",
       "      <td>5.042828e+06</td>\n",
       "      <td>12985.393171</td>\n",
       "      <td>1.297387e+09</td>\n",
       "      <td>1.297706e+09</td>\n",
       "      <td>1.297393e+18</td>\n",
       "      <td>0.036524</td>\n",
       "      <td>582.519364</td>\n",
       "      <td>1.297391e+11</td>\n",
       "      <td>477.456487</td>\n",
       "      <td>193292.339066</td>\n",
       "      <td>18909.01455</td>\n",
       "      <td>0.842877</td>\n",
       "      <td>1.041361</td>\n",
       "    </tr>\n",
       "    <tr>\n",
       "      <th>min</th>\n",
       "      <td>2.901108e+06</td>\n",
       "      <td>11110.000000</td>\n",
       "      <td>1.111052e+09</td>\n",
       "      <td>1.111010e+09</td>\n",
       "      <td>1.111010e+18</td>\n",
       "      <td>1.000000</td>\n",
       "      <td>1.000000</td>\n",
       "      <td>1.111020e+11</td>\n",
       "      <td>0.000000</td>\n",
       "      <td>100011.000000</td>\n",
       "      <td>1000.00000</td>\n",
       "      <td>124.717632</td>\n",
       "      <td>33.219290</td>\n",
       "    </tr>\n",
       "    <tr>\n",
       "      <th>25%</th>\n",
       "      <td>2.001931e+07</td>\n",
       "      <td>26350.000000</td>\n",
       "      <td>2.635065e+09</td>\n",
       "      <td>2.635011e+09</td>\n",
       "      <td>2.635011e+18</td>\n",
       "      <td>1.000000</td>\n",
       "      <td>162.000000</td>\n",
       "      <td>2.635042e+11</td>\n",
       "      <td>29.000000</td>\n",
       "      <td>302120.000000</td>\n",
       "      <td>11681.00000</td>\n",
       "      <td>126.914297</td>\n",
       "      <td>35.811830</td>\n",
       "    </tr>\n",
       "    <tr>\n",
       "      <th>50%</th>\n",
       "      <td>2.211900e+07</td>\n",
       "      <td>41117.000000</td>\n",
       "      <td>4.111758e+09</td>\n",
       "      <td>4.111710e+09</td>\n",
       "      <td>4.111711e+18</td>\n",
       "      <td>1.000000</td>\n",
       "      <td>462.000000</td>\n",
       "      <td>4.111743e+11</td>\n",
       "      <td>92.000000</td>\n",
       "      <td>440300.000000</td>\n",
       "      <td>24353.00000</td>\n",
       "      <td>127.084550</td>\n",
       "      <td>37.234652</td>\n",
       "    </tr>\n",
       "    <tr>\n",
       "      <th>75%</th>\n",
       "      <td>2.480984e+07</td>\n",
       "      <td>43113.000000</td>\n",
       "      <td>4.311370e+09</td>\n",
       "      <td>4.311311e+09</td>\n",
       "      <td>4.311311e+18</td>\n",
       "      <td>1.000000</td>\n",
       "      <td>858.000000</td>\n",
       "      <td>4.311332e+11</td>\n",
       "      <td>257.000000</td>\n",
       "      <td>602811.000000</td>\n",
       "      <td>46044.00000</td>\n",
       "      <td>128.108919</td>\n",
       "      <td>37.507463</td>\n",
       "    </tr>\n",
       "    <tr>\n",
       "      <th>max</th>\n",
       "      <td>2.852470e+07</td>\n",
       "      <td>50130.000000</td>\n",
       "      <td>5.013061e+09</td>\n",
       "      <td>5.013032e+09</td>\n",
       "      <td>5.013061e+18</td>\n",
       "      <td>2.000000</td>\n",
       "      <td>7338.000000</td>\n",
       "      <td>5.013049e+11</td>\n",
       "      <td>8795.000000</td>\n",
       "      <td>799801.000000</td>\n",
       "      <td>63643.00000</td>\n",
       "      <td>130.909912</td>\n",
       "      <td>38.499659</td>\n",
       "    </tr>\n",
       "  </tbody>\n",
       "</table>\n",
       "</div>"
      ],
      "text/plain": [
       "             상가업소번호         시군구코드         행정동코드         법정동코드          지번코드  \\\n",
       "count  9.133500e+04  90956.000000  9.133500e+04  9.128000e+04  9.133500e+04   \n",
       "mean   2.121818e+07  32898.381877  3.293232e+09  3.293385e+09  3.293191e+18   \n",
       "std    5.042828e+06  12985.393171  1.297387e+09  1.297706e+09  1.297393e+18   \n",
       "min    2.901108e+06  11110.000000  1.111052e+09  1.111010e+09  1.111010e+18   \n",
       "25%    2.001931e+07  26350.000000  2.635065e+09  2.635011e+09  2.635011e+18   \n",
       "50%    2.211900e+07  41117.000000  4.111758e+09  4.111710e+09  4.111711e+18   \n",
       "75%    2.480984e+07  43113.000000  4.311370e+09  4.311311e+09  4.311311e+18   \n",
       "max    2.852470e+07  50130.000000  5.013061e+09  5.013032e+09  5.013061e+18   \n",
       "\n",
       "             대지구분코드         지번본번지         도로명코드         건물본번지          구우편번호  \\\n",
       "count  91335.000000  91335.000000  9.133500e+04  91335.000000   91323.000000   \n",
       "mean       1.001336    587.534549  3.293207e+11    251.200482  428432.911085   \n",
       "std        0.036524    582.519364  1.297391e+11    477.456487  193292.339066   \n",
       "min        1.000000      1.000000  1.111020e+11      0.000000  100011.000000   \n",
       "25%        1.000000    162.000000  2.635042e+11     29.000000  302120.000000   \n",
       "50%        1.000000    462.000000  4.111743e+11     92.000000  440300.000000   \n",
       "75%        1.000000    858.000000  4.311332e+11    257.000000  602811.000000   \n",
       "max        2.000000   7338.000000  5.013049e+11   8795.000000  799801.000000   \n",
       "\n",
       "             신우편번호            경도            위도  \n",
       "count  91333.00000  91335.000000  91335.000000  \n",
       "mean   28085.47698    127.487524     36.624711  \n",
       "std    18909.01455      0.842877      1.041361  \n",
       "min     1000.00000    124.717632     33.219290  \n",
       "25%    11681.00000    126.914297     35.811830  \n",
       "50%    24353.00000    127.084550     37.234652  \n",
       "75%    46044.00000    128.108919     37.507463  \n",
       "max    63643.00000    130.909912     38.499659  "
      ]
     },
     "execution_count": 45,
     "metadata": {},
     "output_type": "execute_result"
    }
   ],
   "source": [
    "# describe로 수치형 데이터타입의 요약을 봅니다.\n",
    "\n",
    "df.describe(include=\"number\")"
   ]
  },
  {
   "cell_type": "code",
   "execution_count": 43,
   "metadata": {
    "id": "7rbeWUB1vkZ-",
    "outputId": "1adfa8c6-3d3c-42fa-f52d-93f187a7c13c",
    "scrolled": true
   },
   "outputs": [
    {
     "data": {
      "text/html": [
       "<div>\n",
       "<style scoped>\n",
       "    .dataframe tbody tr th:only-of-type {\n",
       "        vertical-align: middle;\n",
       "    }\n",
       "\n",
       "    .dataframe tbody tr th {\n",
       "        vertical-align: top;\n",
       "    }\n",
       "\n",
       "    .dataframe thead th {\n",
       "        text-align: right;\n",
       "    }\n",
       "</style>\n",
       "<table border=\"1\" class=\"dataframe\">\n",
       "  <thead>\n",
       "    <tr style=\"text-align: right;\">\n",
       "      <th></th>\n",
       "      <th>상호명</th>\n",
       "      <th>상권업종대분류코드</th>\n",
       "      <th>상권업종대분류명</th>\n",
       "      <th>상권업종중분류코드</th>\n",
       "      <th>상권업종중분류명</th>\n",
       "      <th>상권업종소분류코드</th>\n",
       "      <th>상권업종소분류명</th>\n",
       "      <th>시도명</th>\n",
       "      <th>시군구명</th>\n",
       "      <th>행정동명</th>\n",
       "      <th>법정동명</th>\n",
       "      <th>대지구분명</th>\n",
       "      <th>지번주소</th>\n",
       "      <th>도로명</th>\n",
       "      <th>건물관리번호</th>\n",
       "      <th>도로명주소</th>\n",
       "    </tr>\n",
       "  </thead>\n",
       "  <tbody>\n",
       "    <tr>\n",
       "      <th>count</th>\n",
       "      <td>91335</td>\n",
       "      <td>91335</td>\n",
       "      <td>91335</td>\n",
       "      <td>91335</td>\n",
       "      <td>91335</td>\n",
       "      <td>91335</td>\n",
       "      <td>91335</td>\n",
       "      <td>90956</td>\n",
       "      <td>90956</td>\n",
       "      <td>90956</td>\n",
       "      <td>91280</td>\n",
       "      <td>91335</td>\n",
       "      <td>91335</td>\n",
       "      <td>91335</td>\n",
       "      <td>91335</td>\n",
       "      <td>91335</td>\n",
       "    </tr>\n",
       "    <tr>\n",
       "      <th>unique</th>\n",
       "      <td>56910</td>\n",
       "      <td>1</td>\n",
       "      <td>1</td>\n",
       "      <td>5</td>\n",
       "      <td>5</td>\n",
       "      <td>34</td>\n",
       "      <td>34</td>\n",
       "      <td>17</td>\n",
       "      <td>228</td>\n",
       "      <td>2791</td>\n",
       "      <td>2822</td>\n",
       "      <td>2</td>\n",
       "      <td>53118</td>\n",
       "      <td>16610</td>\n",
       "      <td>54142</td>\n",
       "      <td>54031</td>\n",
       "    </tr>\n",
       "    <tr>\n",
       "      <th>top</th>\n",
       "      <td>리원</td>\n",
       "      <td>S</td>\n",
       "      <td>의료</td>\n",
       "      <td>S01</td>\n",
       "      <td>병원</td>\n",
       "      <td>S02A01</td>\n",
       "      <td>약국</td>\n",
       "      <td>경기도</td>\n",
       "      <td>서구</td>\n",
       "      <td>중앙동</td>\n",
       "      <td>중동</td>\n",
       "      <td>대지</td>\n",
       "      <td>서울특별시 동대문구 제기동 965-1</td>\n",
       "      <td>서울특별시 강남구 강남대로</td>\n",
       "      <td>1123010300109650001031604</td>\n",
       "      <td>서울특별시 동대문구 약령중앙로8길 10</td>\n",
       "    </tr>\n",
       "    <tr>\n",
       "      <th>freq</th>\n",
       "      <td>152</td>\n",
       "      <td>91335</td>\n",
       "      <td>91335</td>\n",
       "      <td>60774</td>\n",
       "      <td>60774</td>\n",
       "      <td>18964</td>\n",
       "      <td>18964</td>\n",
       "      <td>21374</td>\n",
       "      <td>3165</td>\n",
       "      <td>1856</td>\n",
       "      <td>874</td>\n",
       "      <td>91213</td>\n",
       "      <td>198</td>\n",
       "      <td>326</td>\n",
       "      <td>198</td>\n",
       "      <td>198</td>\n",
       "    </tr>\n",
       "  </tbody>\n",
       "</table>\n",
       "</div>"
      ],
      "text/plain": [
       "          상호명 상권업종대분류코드 상권업종대분류명 상권업종중분류코드 상권업종중분류명 상권업종소분류코드 상권업종소분류명    시도명  \\\n",
       "count   91335     91335    91335     91335    91335     91335    91335  90956   \n",
       "unique  56910         1        1         5        5        34       34     17   \n",
       "top        리원         S       의료       S01       병원    S02A01       약국    경기도   \n",
       "freq      152     91335    91335     60774    60774     18964    18964  21374   \n",
       "\n",
       "         시군구명   행정동명   법정동명  대지구분명                  지번주소             도로명  \\\n",
       "count   90956  90956  91280  91335                 91335           91335   \n",
       "unique    228   2791   2822      2                 53118           16610   \n",
       "top        서구    중앙동     중동     대지  서울특별시 동대문구 제기동 965-1  서울특별시 강남구 강남대로   \n",
       "freq     3165   1856    874  91213                   198             326   \n",
       "\n",
       "                           건물관리번호                  도로명주소  \n",
       "count                       91335                  91335  \n",
       "unique                      54142                  54031  \n",
       "top     1123010300109650001031604  서울특별시 동대문구 약령중앙로8길 10  \n",
       "freq                          198                    198  "
      ]
     },
     "execution_count": 43,
     "metadata": {},
     "output_type": "execute_result"
    }
   ],
   "source": [
    "# describe로 문자열 데이터타입의 요약을 봅니다.\n",
    "# * object - unique는 값의 종류가 몇 개인지를 보여줍니다.\n",
    "\n",
    "\n",
    "df.describe(include=\"object\")"
   ]
  },
  {
   "cell_type": "code",
   "execution_count": 46,
   "metadata": {},
   "outputs": [
    {
     "data": {
      "text/html": [
       "<div>\n",
       "<style scoped>\n",
       "    .dataframe tbody tr th:only-of-type {\n",
       "        vertical-align: middle;\n",
       "    }\n",
       "\n",
       "    .dataframe tbody tr th {\n",
       "        vertical-align: top;\n",
       "    }\n",
       "\n",
       "    .dataframe thead th {\n",
       "        text-align: right;\n",
       "    }\n",
       "</style>\n",
       "<table border=\"1\" class=\"dataframe\">\n",
       "  <thead>\n",
       "    <tr style=\"text-align: right;\">\n",
       "      <th></th>\n",
       "      <th>상가업소번호</th>\n",
       "      <th>상호명</th>\n",
       "      <th>상권업종대분류코드</th>\n",
       "      <th>상권업종대분류명</th>\n",
       "      <th>상권업종중분류코드</th>\n",
       "      <th>상권업종중분류명</th>\n",
       "      <th>상권업종소분류코드</th>\n",
       "      <th>상권업종소분류명</th>\n",
       "      <th>시도명</th>\n",
       "      <th>시군구코드</th>\n",
       "      <th>...</th>\n",
       "      <th>지번주소</th>\n",
       "      <th>도로명코드</th>\n",
       "      <th>도로명</th>\n",
       "      <th>건물본번지</th>\n",
       "      <th>건물관리번호</th>\n",
       "      <th>도로명주소</th>\n",
       "      <th>구우편번호</th>\n",
       "      <th>신우편번호</th>\n",
       "      <th>경도</th>\n",
       "      <th>위도</th>\n",
       "    </tr>\n",
       "  </thead>\n",
       "  <tbody>\n",
       "    <tr>\n",
       "      <th>count</th>\n",
       "      <td>9.133500e+04</td>\n",
       "      <td>91335</td>\n",
       "      <td>91335</td>\n",
       "      <td>91335</td>\n",
       "      <td>91335</td>\n",
       "      <td>91335</td>\n",
       "      <td>91335</td>\n",
       "      <td>91335</td>\n",
       "      <td>90956</td>\n",
       "      <td>90956.000000</td>\n",
       "      <td>...</td>\n",
       "      <td>91335</td>\n",
       "      <td>9.133500e+04</td>\n",
       "      <td>91335</td>\n",
       "      <td>91335.000000</td>\n",
       "      <td>91335</td>\n",
       "      <td>91335</td>\n",
       "      <td>91323.000000</td>\n",
       "      <td>91333.00000</td>\n",
       "      <td>91335.000000</td>\n",
       "      <td>91335.000000</td>\n",
       "    </tr>\n",
       "    <tr>\n",
       "      <th>unique</th>\n",
       "      <td>NaN</td>\n",
       "      <td>56910</td>\n",
       "      <td>1</td>\n",
       "      <td>1</td>\n",
       "      <td>5</td>\n",
       "      <td>5</td>\n",
       "      <td>34</td>\n",
       "      <td>34</td>\n",
       "      <td>17</td>\n",
       "      <td>NaN</td>\n",
       "      <td>...</td>\n",
       "      <td>53118</td>\n",
       "      <td>NaN</td>\n",
       "      <td>16610</td>\n",
       "      <td>NaN</td>\n",
       "      <td>54142</td>\n",
       "      <td>54031</td>\n",
       "      <td>NaN</td>\n",
       "      <td>NaN</td>\n",
       "      <td>NaN</td>\n",
       "      <td>NaN</td>\n",
       "    </tr>\n",
       "    <tr>\n",
       "      <th>top</th>\n",
       "      <td>NaN</td>\n",
       "      <td>리원</td>\n",
       "      <td>S</td>\n",
       "      <td>의료</td>\n",
       "      <td>S01</td>\n",
       "      <td>병원</td>\n",
       "      <td>S02A01</td>\n",
       "      <td>약국</td>\n",
       "      <td>경기도</td>\n",
       "      <td>NaN</td>\n",
       "      <td>...</td>\n",
       "      <td>서울특별시 동대문구 제기동 965-1</td>\n",
       "      <td>NaN</td>\n",
       "      <td>서울특별시 강남구 강남대로</td>\n",
       "      <td>NaN</td>\n",
       "      <td>1123010300109650001031604</td>\n",
       "      <td>서울특별시 동대문구 약령중앙로8길 10</td>\n",
       "      <td>NaN</td>\n",
       "      <td>NaN</td>\n",
       "      <td>NaN</td>\n",
       "      <td>NaN</td>\n",
       "    </tr>\n",
       "    <tr>\n",
       "      <th>freq</th>\n",
       "      <td>NaN</td>\n",
       "      <td>152</td>\n",
       "      <td>91335</td>\n",
       "      <td>91335</td>\n",
       "      <td>60774</td>\n",
       "      <td>60774</td>\n",
       "      <td>18964</td>\n",
       "      <td>18964</td>\n",
       "      <td>21374</td>\n",
       "      <td>NaN</td>\n",
       "      <td>...</td>\n",
       "      <td>198</td>\n",
       "      <td>NaN</td>\n",
       "      <td>326</td>\n",
       "      <td>NaN</td>\n",
       "      <td>198</td>\n",
       "      <td>198</td>\n",
       "      <td>NaN</td>\n",
       "      <td>NaN</td>\n",
       "      <td>NaN</td>\n",
       "      <td>NaN</td>\n",
       "    </tr>\n",
       "    <tr>\n",
       "      <th>mean</th>\n",
       "      <td>2.121818e+07</td>\n",
       "      <td>NaN</td>\n",
       "      <td>NaN</td>\n",
       "      <td>NaN</td>\n",
       "      <td>NaN</td>\n",
       "      <td>NaN</td>\n",
       "      <td>NaN</td>\n",
       "      <td>NaN</td>\n",
       "      <td>NaN</td>\n",
       "      <td>32898.381877</td>\n",
       "      <td>...</td>\n",
       "      <td>NaN</td>\n",
       "      <td>3.293207e+11</td>\n",
       "      <td>NaN</td>\n",
       "      <td>251.200482</td>\n",
       "      <td>NaN</td>\n",
       "      <td>NaN</td>\n",
       "      <td>428432.911085</td>\n",
       "      <td>28085.47698</td>\n",
       "      <td>127.487524</td>\n",
       "      <td>36.624711</td>\n",
       "    </tr>\n",
       "    <tr>\n",
       "      <th>std</th>\n",
       "      <td>5.042828e+06</td>\n",
       "      <td>NaN</td>\n",
       "      <td>NaN</td>\n",
       "      <td>NaN</td>\n",
       "      <td>NaN</td>\n",
       "      <td>NaN</td>\n",
       "      <td>NaN</td>\n",
       "      <td>NaN</td>\n",
       "      <td>NaN</td>\n",
       "      <td>12985.393171</td>\n",
       "      <td>...</td>\n",
       "      <td>NaN</td>\n",
       "      <td>1.297391e+11</td>\n",
       "      <td>NaN</td>\n",
       "      <td>477.456487</td>\n",
       "      <td>NaN</td>\n",
       "      <td>NaN</td>\n",
       "      <td>193292.339066</td>\n",
       "      <td>18909.01455</td>\n",
       "      <td>0.842877</td>\n",
       "      <td>1.041361</td>\n",
       "    </tr>\n",
       "    <tr>\n",
       "      <th>min</th>\n",
       "      <td>2.901108e+06</td>\n",
       "      <td>NaN</td>\n",
       "      <td>NaN</td>\n",
       "      <td>NaN</td>\n",
       "      <td>NaN</td>\n",
       "      <td>NaN</td>\n",
       "      <td>NaN</td>\n",
       "      <td>NaN</td>\n",
       "      <td>NaN</td>\n",
       "      <td>11110.000000</td>\n",
       "      <td>...</td>\n",
       "      <td>NaN</td>\n",
       "      <td>1.111020e+11</td>\n",
       "      <td>NaN</td>\n",
       "      <td>0.000000</td>\n",
       "      <td>NaN</td>\n",
       "      <td>NaN</td>\n",
       "      <td>100011.000000</td>\n",
       "      <td>1000.00000</td>\n",
       "      <td>124.717632</td>\n",
       "      <td>33.219290</td>\n",
       "    </tr>\n",
       "    <tr>\n",
       "      <th>25%</th>\n",
       "      <td>2.001931e+07</td>\n",
       "      <td>NaN</td>\n",
       "      <td>NaN</td>\n",
       "      <td>NaN</td>\n",
       "      <td>NaN</td>\n",
       "      <td>NaN</td>\n",
       "      <td>NaN</td>\n",
       "      <td>NaN</td>\n",
       "      <td>NaN</td>\n",
       "      <td>26350.000000</td>\n",
       "      <td>...</td>\n",
       "      <td>NaN</td>\n",
       "      <td>2.635042e+11</td>\n",
       "      <td>NaN</td>\n",
       "      <td>29.000000</td>\n",
       "      <td>NaN</td>\n",
       "      <td>NaN</td>\n",
       "      <td>302120.000000</td>\n",
       "      <td>11681.00000</td>\n",
       "      <td>126.914297</td>\n",
       "      <td>35.811830</td>\n",
       "    </tr>\n",
       "    <tr>\n",
       "      <th>50%</th>\n",
       "      <td>2.211900e+07</td>\n",
       "      <td>NaN</td>\n",
       "      <td>NaN</td>\n",
       "      <td>NaN</td>\n",
       "      <td>NaN</td>\n",
       "      <td>NaN</td>\n",
       "      <td>NaN</td>\n",
       "      <td>NaN</td>\n",
       "      <td>NaN</td>\n",
       "      <td>41117.000000</td>\n",
       "      <td>...</td>\n",
       "      <td>NaN</td>\n",
       "      <td>4.111743e+11</td>\n",
       "      <td>NaN</td>\n",
       "      <td>92.000000</td>\n",
       "      <td>NaN</td>\n",
       "      <td>NaN</td>\n",
       "      <td>440300.000000</td>\n",
       "      <td>24353.00000</td>\n",
       "      <td>127.084550</td>\n",
       "      <td>37.234652</td>\n",
       "    </tr>\n",
       "    <tr>\n",
       "      <th>75%</th>\n",
       "      <td>2.480984e+07</td>\n",
       "      <td>NaN</td>\n",
       "      <td>NaN</td>\n",
       "      <td>NaN</td>\n",
       "      <td>NaN</td>\n",
       "      <td>NaN</td>\n",
       "      <td>NaN</td>\n",
       "      <td>NaN</td>\n",
       "      <td>NaN</td>\n",
       "      <td>43113.000000</td>\n",
       "      <td>...</td>\n",
       "      <td>NaN</td>\n",
       "      <td>4.311332e+11</td>\n",
       "      <td>NaN</td>\n",
       "      <td>257.000000</td>\n",
       "      <td>NaN</td>\n",
       "      <td>NaN</td>\n",
       "      <td>602811.000000</td>\n",
       "      <td>46044.00000</td>\n",
       "      <td>128.108919</td>\n",
       "      <td>37.507463</td>\n",
       "    </tr>\n",
       "    <tr>\n",
       "      <th>max</th>\n",
       "      <td>2.852470e+07</td>\n",
       "      <td>NaN</td>\n",
       "      <td>NaN</td>\n",
       "      <td>NaN</td>\n",
       "      <td>NaN</td>\n",
       "      <td>NaN</td>\n",
       "      <td>NaN</td>\n",
       "      <td>NaN</td>\n",
       "      <td>NaN</td>\n",
       "      <td>50130.000000</td>\n",
       "      <td>...</td>\n",
       "      <td>NaN</td>\n",
       "      <td>5.013049e+11</td>\n",
       "      <td>NaN</td>\n",
       "      <td>8795.000000</td>\n",
       "      <td>NaN</td>\n",
       "      <td>NaN</td>\n",
       "      <td>799801.000000</td>\n",
       "      <td>63643.00000</td>\n",
       "      <td>130.909912</td>\n",
       "      <td>38.499659</td>\n",
       "    </tr>\n",
       "  </tbody>\n",
       "</table>\n",
       "<p>11 rows × 29 columns</p>\n",
       "</div>"
      ],
      "text/plain": [
       "              상가업소번호    상호명 상권업종대분류코드 상권업종대분류명 상권업종중분류코드 상권업종중분류명 상권업종소분류코드  \\\n",
       "count   9.133500e+04  91335     91335    91335     91335    91335     91335   \n",
       "unique           NaN  56910         1        1         5        5        34   \n",
       "top              NaN     리원         S       의료       S01       병원    S02A01   \n",
       "freq             NaN    152     91335    91335     60774    60774     18964   \n",
       "mean    2.121818e+07    NaN       NaN      NaN       NaN      NaN       NaN   \n",
       "std     5.042828e+06    NaN       NaN      NaN       NaN      NaN       NaN   \n",
       "min     2.901108e+06    NaN       NaN      NaN       NaN      NaN       NaN   \n",
       "25%     2.001931e+07    NaN       NaN      NaN       NaN      NaN       NaN   \n",
       "50%     2.211900e+07    NaN       NaN      NaN       NaN      NaN       NaN   \n",
       "75%     2.480984e+07    NaN       NaN      NaN       NaN      NaN       NaN   \n",
       "max     2.852470e+07    NaN       NaN      NaN       NaN      NaN       NaN   \n",
       "\n",
       "       상권업종소분류명    시도명         시군구코드  ...                  지번주소         도로명코드  \\\n",
       "count     91335  90956  90956.000000  ...                 91335  9.133500e+04   \n",
       "unique       34     17           NaN  ...                 53118           NaN   \n",
       "top          약국    경기도           NaN  ...  서울특별시 동대문구 제기동 965-1           NaN   \n",
       "freq      18964  21374           NaN  ...                   198           NaN   \n",
       "mean        NaN    NaN  32898.381877  ...                   NaN  3.293207e+11   \n",
       "std         NaN    NaN  12985.393171  ...                   NaN  1.297391e+11   \n",
       "min         NaN    NaN  11110.000000  ...                   NaN  1.111020e+11   \n",
       "25%         NaN    NaN  26350.000000  ...                   NaN  2.635042e+11   \n",
       "50%         NaN    NaN  41117.000000  ...                   NaN  4.111743e+11   \n",
       "75%         NaN    NaN  43113.000000  ...                   NaN  4.311332e+11   \n",
       "max         NaN    NaN  50130.000000  ...                   NaN  5.013049e+11   \n",
       "\n",
       "                   도로명         건물본번지                     건물관리번호  \\\n",
       "count            91335  91335.000000                      91335   \n",
       "unique           16610           NaN                      54142   \n",
       "top     서울특별시 강남구 강남대로           NaN  1123010300109650001031604   \n",
       "freq               326           NaN                        198   \n",
       "mean               NaN    251.200482                        NaN   \n",
       "std                NaN    477.456487                        NaN   \n",
       "min                NaN      0.000000                        NaN   \n",
       "25%                NaN     29.000000                        NaN   \n",
       "50%                NaN     92.000000                        NaN   \n",
       "75%                NaN    257.000000                        NaN   \n",
       "max                NaN   8795.000000                        NaN   \n",
       "\n",
       "                        도로명주소          구우편번호        신우편번호            경도  \\\n",
       "count                   91335   91323.000000  91333.00000  91335.000000   \n",
       "unique                  54031            NaN          NaN           NaN   \n",
       "top     서울특별시 동대문구 약령중앙로8길 10            NaN          NaN           NaN   \n",
       "freq                      198            NaN          NaN           NaN   \n",
       "mean                      NaN  428432.911085  28085.47698    127.487524   \n",
       "std                       NaN  193292.339066  18909.01455      0.842877   \n",
       "min                       NaN  100011.000000   1000.00000    124.717632   \n",
       "25%                       NaN  302120.000000  11681.00000    126.914297   \n",
       "50%                       NaN  440300.000000  24353.00000    127.084550   \n",
       "75%                       NaN  602811.000000  46044.00000    128.108919   \n",
       "max                       NaN  799801.000000  63643.00000    130.909912   \n",
       "\n",
       "                  위도  \n",
       "count   91335.000000  \n",
       "unique           NaN  \n",
       "top              NaN  \n",
       "freq             NaN  \n",
       "mean       36.624711  \n",
       "std         1.041361  \n",
       "min        33.219290  \n",
       "25%        35.811830  \n",
       "50%        37.234652  \n",
       "75%        37.507463  \n",
       "max        38.499659  \n",
       "\n",
       "[11 rows x 29 columns]"
      ]
     },
     "execution_count": 46,
     "metadata": {},
     "output_type": "execute_result"
    }
   ],
   "source": [
    "# describe로 모든 데이터타입의 요약을 봅니다.\n",
    "\n",
    "df.describe(include=\"all\")"
   ]
  },
  {
   "cell_type": "markdown",
   "metadata": {
    "id": "Ov-wTkFNvkZ-"
   },
   "source": [
    "### 중복제거한 값 보기\n",
    "* unique 로 중복을 제거한 값을 보고 nunique 로 갯수를 세어봅니다."
   ]
  },
  {
   "cell_type": "code",
   "execution_count": 47,
   "metadata": {
    "id": "SxMFbgkEvkZ-",
    "outputId": "ada8c847-5950-4c6f-fcab-9d593f42f4af"
   },
   "outputs": [
    {
     "data": {
      "text/plain": [
       "array(['의료'], dtype=object)"
      ]
     },
     "execution_count": 47,
     "metadata": {},
     "output_type": "execute_result"
    }
   ],
   "source": [
    "# \"상권업종대분류명\"\n",
    "df[\"상권업종대분류명\"].unique()"
   ]
  },
  {
   "cell_type": "code",
   "execution_count": 48,
   "metadata": {
    "id": "QhbKj7PHvkZ_",
    "outputId": "11704376-ae36-43cd-cd41-38ca038b784d"
   },
   "outputs": [
    {
     "data": {
      "text/plain": [
       "1"
      ]
     },
     "execution_count": 48,
     "metadata": {},
     "output_type": "execute_result"
    }
   ],
   "source": [
    "df[\"상권업종대분류명\"].nunique()"
   ]
  },
  {
   "cell_type": "markdown",
   "metadata": {},
   "source": [
    "- 상권업종대분류명은 1개의 값을 가지고 있고, 그 값은 \"의료\"입니다."
   ]
  },
  {
   "cell_type": "code",
   "execution_count": 49,
   "metadata": {
    "id": "O9ZcH1avvkZ_",
    "outputId": "530e08e5-4a70-42d9-f37b-c3308b6d3439"
   },
   "outputs": [
    {
     "data": {
      "text/plain": [
       "array(['병원', '약국/한약방', '수의업', '유사의료업', '의료관련서비스업'], dtype=object)"
      ]
     },
     "execution_count": 49,
     "metadata": {},
     "output_type": "execute_result"
    }
   ],
   "source": [
    "# \"상권업종중분류명\"\n",
    "df[\"상권업종중분류명\"].unique()"
   ]
  },
  {
   "cell_type": "code",
   "execution_count": 50,
   "metadata": {
    "id": "iKmI7A_3vkZ_",
    "outputId": "992c8717-4d3e-40a7-f21a-92d2f6af6401"
   },
   "outputs": [
    {
     "data": {
      "text/plain": [
       "5"
      ]
     },
     "execution_count": 50,
     "metadata": {},
     "output_type": "execute_result"
    }
   ],
   "source": [
    "df[\"상권업종중분류명\"].nunique()"
   ]
  },
  {
   "cell_type": "markdown",
   "metadata": {},
   "source": [
    "- 상권업종중분류명은 5개의 값을 가지고 있고, 그 값은 각각 병원, 약국/한약방, 수의업, 유사의료업, 의료관련서비스업입니다."
   ]
  },
  {
   "cell_type": "code",
   "execution_count": 51,
   "metadata": {
    "id": "-yVoC4VUvkZ_",
    "outputId": "d6a488d9-a251-4698-863b-61006e05e96d"
   },
   "outputs": [
    {
     "data": {
      "text/plain": [
       "array(['산부인과', '내과/외과', '신경외과', '기타병원', '약국', '동물병원', '한약방', '탕제원',\n",
       "       '정형/성형외과', '소아과', '이비인후과의원', '노인/치매병원', '언어치료', '수의업-종합', '한의원',\n",
       "       '치과의원', '침구원', '일반병원', '안과의원', '조산원', '한방병원', '종합병원', '유사의료업기타',\n",
       "       '응급구조대', '혈액원', '치과병원', '척추교정치료', '피부과', '비뇨기과', '치과기공소', '산후조리원',\n",
       "       '접골원', '수의업-기타', '제대혈'], dtype=object)"
      ]
     },
     "execution_count": 51,
     "metadata": {},
     "output_type": "execute_result"
    }
   ],
   "source": [
    "# \"상권업종소분류명\"\n",
    "df[\"상권업종소분류명\"].unique()"
   ]
  },
  {
   "cell_type": "code",
   "execution_count": 52,
   "metadata": {
    "id": "GcmFq9z9vkZ_",
    "outputId": "fdfb0629-7aff-4cd7-d3b0-fd46b046fd90"
   },
   "outputs": [
    {
     "data": {
      "text/plain": [
       "34"
      ]
     },
     "execution_count": 52,
     "metadata": {},
     "output_type": "execute_result"
    }
   ],
   "source": [
    "df[\"상권업종소분류명\"].nunique()"
   ]
  },
  {
   "cell_type": "markdown",
   "metadata": {},
   "source": [
    "- 상권업종소분류명은 34개의 값을 가지고 있습니다."
   ]
  },
  {
   "cell_type": "code",
   "execution_count": 53,
   "metadata": {
    "id": "GVyUG2YnvkaA",
    "outputId": "d719d0ee-3775-4cda-a98b-d60a6d33a6ab"
   },
   "outputs": [
    {
     "data": {
      "text/plain": [
       "34"
      ]
     },
     "execution_count": 53,
     "metadata": {},
     "output_type": "execute_result"
    }
   ],
   "source": [
    "# nunique 대신 len 을 사용할 수도 있습니다.\n",
    "len(df[\"상권업종소분류명\"].unique())"
   ]
  },
  {
   "cell_type": "markdown",
   "metadata": {
    "id": "zKx1rhz9vkaA"
   },
   "source": [
    "### 그룹화된 요약값 보기 - value_counts\n",
    "* value_counts 를 사용하면 카테고리 형태의 데이터 갯수를 세어볼 수 있습니다."
   ]
  },
  {
   "cell_type": "code",
   "execution_count": 55,
   "metadata": {
    "id": "nDbqiuS7vkaA",
    "outputId": "82856541-a1a1-4c09-bac6-edfd7d3e8e0f"
   },
   "outputs": [
    {
     "data": {
      "text/plain": [
       "경기도        21374\n",
       "서울특별시      18943\n",
       "부산광역시       6473\n",
       "경상남도        4973\n",
       "인천광역시       4722\n",
       "대구광역시       4597\n",
       "경상북도        4141\n",
       "전라북도        3894\n",
       "충청남도        3578\n",
       "전라남도        3224\n",
       "광주광역시       3214\n",
       "대전광역시       3067\n",
       "충청북도        2677\n",
       "강원도         2634\n",
       "울산광역시       1997\n",
       "제주특별자치도     1095\n",
       "세종특별자치시      353\n",
       "Name: 시도명, dtype: int64"
      ]
     },
     "execution_count": 55,
     "metadata": {},
     "output_type": "execute_result"
    }
   ],
   "source": [
    "# value_counts 를 사용하면 카테고리 형태의 데이터 갯수를 세어볼 수 있습니다.\n",
    "# 시도명를 세어봅니다.\n",
    "\n",
    "df[\"시도명\"].value_counts()"
   ]
  },
  {
   "cell_type": "code",
   "execution_count": 56,
   "metadata": {
    "id": "A6K65nHEvkaA",
    "outputId": "cb852ccf-7447-4be9-b94b-fd26802587d9"
   },
   "outputs": [
    {
     "data": {
      "text/plain": [
       "경기도        0.234993\n",
       "서울특별시      0.208266\n",
       "부산광역시      0.071166\n",
       "경상남도       0.054675\n",
       "인천광역시      0.051915\n",
       "대구광역시      0.050541\n",
       "경상북도       0.045528\n",
       "전라북도       0.042812\n",
       "충청남도       0.039338\n",
       "전라남도       0.035446\n",
       "광주광역시      0.035336\n",
       "대전광역시      0.033720\n",
       "충청북도       0.029432\n",
       "강원도        0.028959\n",
       "울산광역시      0.021956\n",
       "제주특별자치도    0.012039\n",
       "세종특별자치시    0.003881\n",
       "Name: 시도명, dtype: float64"
      ]
     },
     "execution_count": 56,
     "metadata": {},
     "output_type": "execute_result"
    }
   ],
   "source": [
    "# normalize=True 옵션을 사용하면 비율을 구할 수 있습니다.\n",
    "\n",
    "df[\"시도명\"].value_counts(normalize=True)"
   ]
  },
  {
   "cell_type": "code",
   "execution_count": 58,
   "metadata": {},
   "outputs": [],
   "source": [
    "city_normalize = df[\"시도명\"].value_counts(normalize=True) # sereis"
   ]
  },
  {
   "cell_type": "code",
   "execution_count": 59,
   "metadata": {},
   "outputs": [
    {
     "name": "stdout",
     "output_type": "stream",
     "text": [
      "경기도        0.234993\n",
      "서울특별시      0.208266\n",
      "부산광역시      0.071166\n",
      "경상남도       0.054675\n",
      "인천광역시      0.051915\n",
      "대구광역시      0.050541\n",
      "경상북도       0.045528\n",
      "전라북도       0.042812\n",
      "충청남도       0.039338\n",
      "전라남도       0.035446\n",
      "광주광역시      0.035336\n",
      "대전광역시      0.033720\n",
      "충청북도       0.029432\n",
      "강원도        0.028959\n",
      "울산광역시      0.021956\n",
      "제주특별자치도    0.012039\n",
      "세종특별자치시    0.003881\n",
      "Name: 시도명, dtype: float64 <class 'pandas.core.series.Series'>\n"
     ]
    }
   ],
   "source": [
    "print(city_normalize,type(city_normalize))"
   ]
  },
  {
   "cell_type": "code",
   "execution_count": 57,
   "metadata": {
    "id": "cLTKB0KAvkaA",
    "outputId": "3b941039-61c5-4d5d-bb5a-b572fff20e3c",
    "scrolled": true
   },
   "outputs": [
    {
     "data": {
      "text/plain": [
       "<AxesSubplot:>"
      ]
     },
     "execution_count": 57,
     "metadata": {},
     "output_type": "execute_result"
    },
    {
     "data": {
      "image/png": "[encoded data removed]",
      "text/plain": [
       "<Figure size 432x288 with 1 Axes>"
      ]
     },
     "metadata": {
      "image/png": {
       "height": 248,
       "width": 426
      },
      "needs_background": "light"
     },
     "output_type": "display_data"
    }
   ],
   "source": [
    "# Pandas 에는 plot기능을 내장하고 있습니다. \n",
    "# 위에서 분석한 시도명 수를 막대그래프로 표현해 봅니다.\n",
    "\n",
    "df[\"시도명\"].value_counts().plot.barh()"
   ]
  },
  {
   "cell_type": "code",
   "execution_count": 60,
   "metadata": {
    "id": "nDPUsdx0vkaA",
    "outputId": "9b5959ed-efc8-41b7-a9d7-0e4fbdc0df12"
   },
   "outputs": [
    {
     "data": {
      "text/plain": [
       "<AxesSubplot:ylabel='시도명'>"
      ]
     },
     "execution_count": 60,
     "metadata": {},
     "output_type": "execute_result"
    },
    {
     "data": {
      "image/png": "[encoded data removed]",
      "text/plain": [
       "<Figure size 504x504 with 1 Axes>"
      ]
     },
     "metadata": {
      "image/png": {
       "height": 394,
       "width": 467
      }
     },
     "output_type": "display_data"
    }
   ],
   "source": [
    "# 판다스의 plot.pie()를 사용해서 파이그래프를 그려봅니다.\n",
    "df[\"시도명\"].value_counts().plot.pie(figsize=(7, 7))"
   ]
  },
  {
   "cell_type": "markdown",
   "metadata": {},
   "source": [
    "- 수치가 명확히 나오는 bar차트가 더 합리적이다."
   ]
  },
  {
   "cell_type": "markdown",
   "metadata": {},
   "source": [
    "### seaborn 시각화\n",
    "\n",
    "seaborn은 대체로 x, y, data를 기본으로 넣어줘야 하지만 countplot은 x,y 중 하나만 넣어도 됩니다.\n",
    "\n",
    "seaborn의 장점 : 고급 통계 기능을 그래프 내부에서 제공합니다.\n",
    "\n",
    "seaborn의 단점 : 데이터 크기가 클수록 속도가 느립니다."
   ]
  },
  {
   "cell_type": "code",
   "execution_count": 61,
   "metadata": {
    "id": "lWqrjNmLvkaB",
    "outputId": "ca49ef4b-7d31-45dd-f263-c9155778392e"
   },
   "outputs": [
    {
     "data": {
      "text/plain": [
       "<AxesSubplot:xlabel='count', ylabel='시도명'>"
      ]
     },
     "execution_count": 61,
     "metadata": {},
     "output_type": "execute_result"
    },
    {
     "data": {
      "image/png": "[encoded data removed]",
      "text/plain": [
       "<Figure size 432x288 with 1 Axes>"
      ]
     },
     "metadata": {
      "image/png": {
       "height": 261,
       "width": 439
      },
      "needs_background": "light"
     },
     "output_type": "display_data"
    }
   ],
   "source": [
    "sns.countplot(data=df, y=\"시도명\")"
   ]
  },
  {
   "cell_type": "code",
   "execution_count": 62,
   "metadata": {
    "id": "erIe59HcvkaB",
    "outputId": "318a6833-84f8-458f-af5a-9f92809ed7a4"
   },
   "outputs": [
    {
     "data": {
      "text/plain": [
       "의료    91335\n",
       "Name: 상권업종대분류명, dtype: int64"
      ]
     },
     "execution_count": 62,
     "metadata": {},
     "output_type": "execute_result"
    }
   ],
   "source": [
    "# \"상권업종대분류명\"으로 갯수를 세어봅니다.\n",
    "df[\"상권업종대분류명\"].value_counts()"
   ]
  },
  {
   "cell_type": "code",
   "execution_count": 63,
   "metadata": {
    "id": "Wl-bgm3avkaB",
    "outputId": "dba2e09f-be87-43e1-9269-77d119296809"
   },
   "outputs": [
    {
     "data": {
      "text/plain": [
       "병원          60774\n",
       "약국/한약방      20923\n",
       "수의업          5323\n",
       "유사의료업        3774\n",
       "의료관련서비스업      541\n",
       "Name: 상권업종중분류명, dtype: int64"
      ]
     },
     "execution_count": 63,
     "metadata": {},
     "output_type": "execute_result"
    }
   ],
   "source": [
    "# \"상권업종중분류명\"으로 갯수를 세어봅니다.\n",
    "df[\"상권업종중분류명\"].value_counts()"
   ]
  },
  {
   "cell_type": "code",
   "execution_count": 64,
   "metadata": {
    "id": "kTGBI4qvvkaB",
    "outputId": "a24921c6-500b-4b30-a675-b7c0bc931f27"
   },
   "outputs": [
    {
     "data": {
      "text/plain": [
       "병원          0.665397\n",
       "약국/한약방      0.229080\n",
       "수의업         0.058280\n",
       "유사의료업       0.041320\n",
       "의료관련서비스업    0.005923\n",
       "Name: 상권업종중분류명, dtype: float64"
      ]
     },
     "execution_count": 64,
     "metadata": {},
     "output_type": "execute_result"
    }
   ],
   "source": [
    "# normalize=True 를 사용해 비율을 구해봅니다.\n",
    "df[\"상권업종중분류명\"].value_counts(normalize=True)"
   ]
  },
  {
   "cell_type": "code",
   "execution_count": 65,
   "metadata": {
    "id": "DVwRticvvkaB",
    "outputId": "b548935d-92cf-4bbf-fb49-fac750633ace"
   },
   "outputs": [
    {
     "data": {
      "text/plain": [
       "<AxesSubplot:>"
      ]
     },
     "execution_count": 65,
     "metadata": {},
     "output_type": "execute_result"
    },
    {
     "data": {
      "image/png": "[encoded data removed]",
      "text/plain": [
       "<Figure size 432x288 with 1 Axes>"
      ]
     },
     "metadata": {
      "image/png": {
       "height": 248,
       "width": 436
      },
      "needs_background": "light"
     },
     "output_type": "display_data"
    }
   ],
   "source": [
    "# 판다스의 plot.bar()를 사용해서 막대그래프를 그려봅니다. \n",
    "df[\"상권업종중분류명\"].value_counts().plot.barh()"
   ]
  },
  {
   "cell_type": "code",
   "execution_count": 66,
   "metadata": {
    "id": "2gsVyBaqvkaB",
    "outputId": "da18c72f-4254-4f8c-da8b-3c23a7987e62"
   },
   "outputs": [
    {
     "data": {
      "text/plain": [
       "<AxesSubplot:ylabel='상권업종중분류명'>"
      ]
     },
     "execution_count": 66,
     "metadata": {},
     "output_type": "execute_result"
    },
    {
     "data": {
      "image/png": "[encoded data removed]",
      "text/plain": [
       "<Figure size 432x288 with 1 Axes>"
      ]
     },
     "metadata": {
      "image/png": {
       "height": 231,
       "width": 312
      }
     },
     "output_type": "display_data"
    }
   ],
   "source": [
    "# 판다스의 plot.pie()를 사용해서 파이그래프를 그려봅니다.\n",
    "df[\"상권업종중분류명\"].value_counts().plot.pie()"
   ]
  },
  {
   "cell_type": "code",
   "execution_count": 67,
   "metadata": {
    "id": "KFcQfRxYvkaB",
    "outputId": "3f34e353-3301-4eb4-9198-5e73b00a40db"
   },
   "outputs": [
    {
     "data": {
      "text/plain": [
       "약국         18964\n",
       "치과의원       13731\n",
       "한의원        13211\n",
       "내과/외과      11374\n",
       "기타병원        4922\n",
       "일반병원        3385\n",
       "동물병원        3098\n",
       "정형/성형외과     2562\n",
       "소아과         2472\n",
       "수의업-종합      2216\n",
       "치과기공소       1724\n",
       "이비인후과의원     1486\n",
       "한약방         1442\n",
       "피부과         1273\n",
       "산부인과        1116\n",
       "노인/치매병원     1055\n",
       "안과의원        1042\n",
       "비뇨기과         809\n",
       "종합병원         762\n",
       "치과병원         756\n",
       "언어치료         664\n",
       "유사의료업기타      629\n",
       "탕제원          517\n",
       "산후조리원        511\n",
       "신경외과         421\n",
       "한방병원         397\n",
       "척추교정치료       338\n",
       "침구원          154\n",
       "혈액원          130\n",
       "응급구조대        125\n",
       "조산원           30\n",
       "접골원            9\n",
       "수의업-기타         9\n",
       "제대혈            1\n",
       "Name: 상권업종소분류명, dtype: int64"
      ]
     },
     "execution_count": 67,
     "metadata": {},
     "output_type": "execute_result"
    }
   ],
   "source": [
    "# \"상권업종소분류명\" 에 대한 그룹화 된 값을 카운트 합니다.\n",
    "df[\"상권업종소분류명\"].value_counts()"
   ]
  },
  {
   "cell_type": "code",
   "execution_count": 70,
   "metadata": {
    "id": "_VH09qOAvkaC",
    "outputId": "51751b16-8da4-4841-a37d-0afa689ceed0"
   },
   "outputs": [
    {
     "data": {
      "text/plain": [
       "<AxesSubplot:>"
      ]
     },
     "execution_count": 70,
     "metadata": {},
     "output_type": "execute_result"
    },
    {
     "data": {
      "image/png": "[encoded data removed]",
      "text/plain": [
       "<Figure size 504x504 with 1 Axes>"
      ]
     },
     "metadata": {
      "image/png": {
       "height": 411,
       "width": 481
      },
      "needs_background": "light"
     },
     "output_type": "display_data"
    }
   ],
   "source": [
    "# \"상권업종소분류명\"으로 갯수를 세어봅니다.\n",
    "# 판다스의 plot.bar()를 사용해서 막대그래프를 그려봅니다. \n",
    "df[\"상권업종소분류명\"].value_counts().plot.barh(figsize=(7, 7),grid = True)"
   ]
  },
  {
   "cell_type": "markdown",
   "metadata": {
    "id": "MDrOcTWBvkaC"
   },
   "source": [
    "## 데이터 색인하기\n",
    "* 특정 데이터만 모아서 따로 봅니다."
   ]
  },
  {
   "cell_type": "code",
   "execution_count": 72,
   "metadata": {},
   "outputs": [
    {
     "data": {
      "text/plain": [
       "0        False\n",
       "1        False\n",
       "2        False\n",
       "3        False\n",
       "4         True\n",
       "         ...  \n",
       "91330     True\n",
       "91331    False\n",
       "91332    False\n",
       "91333    False\n",
       "91334    False\n",
       "Name: 상권업종중분류명, Length: 91335, dtype: bool"
      ]
     },
     "execution_count": 72,
     "metadata": {},
     "output_type": "execute_result"
    }
   ],
   "source": [
    "df[\"상권업종중분류명\"] == \"약국/한약방\"\n"
   ]
  },
  {
   "cell_type": "code",
   "execution_count": 74,
   "metadata": {
    "id": "uU92qyldvkaC",
    "outputId": "62b021ff-c84c-4621-f6e1-65b1b2566a29"
   },
   "outputs": [
    {
     "data": {
      "text/html": [
       "<div>\n",
       "<style scoped>\n",
       "    .dataframe tbody tr th:only-of-type {\n",
       "        vertical-align: middle;\n",
       "    }\n",
       "\n",
       "    .dataframe tbody tr th {\n",
       "        vertical-align: top;\n",
       "    }\n",
       "\n",
       "    .dataframe thead th {\n",
       "        text-align: right;\n",
       "    }\n",
       "</style>\n",
       "<table border=\"1\" class=\"dataframe\">\n",
       "  <thead>\n",
       "    <tr style=\"text-align: right;\">\n",
       "      <th></th>\n",
       "      <th>상가업소번호</th>\n",
       "      <th>상호명</th>\n",
       "      <th>상권업종대분류코드</th>\n",
       "      <th>상권업종대분류명</th>\n",
       "      <th>상권업종중분류코드</th>\n",
       "      <th>상권업종중분류명</th>\n",
       "      <th>상권업종소분류코드</th>\n",
       "      <th>상권업종소분류명</th>\n",
       "      <th>시도명</th>\n",
       "      <th>시군구코드</th>\n",
       "      <th>...</th>\n",
       "      <th>지번주소</th>\n",
       "      <th>도로명코드</th>\n",
       "      <th>도로명</th>\n",
       "      <th>건물본번지</th>\n",
       "      <th>건물관리번호</th>\n",
       "      <th>도로명주소</th>\n",
       "      <th>구우편번호</th>\n",
       "      <th>신우편번호</th>\n",
       "      <th>경도</th>\n",
       "      <th>위도</th>\n",
       "    </tr>\n",
       "  </thead>\n",
       "  <tbody>\n",
       "    <tr>\n",
       "      <th>4</th>\n",
       "      <td>20364049</td>\n",
       "      <td>더블유스토어수지점</td>\n",
       "      <td>S</td>\n",
       "      <td>의료</td>\n",
       "      <td>S02</td>\n",
       "      <td>약국/한약방</td>\n",
       "      <td>S02A01</td>\n",
       "      <td>약국</td>\n",
       "      <td>경기도</td>\n",
       "      <td>41465.0</td>\n",
       "      <td>...</td>\n",
       "      <td>경기도 용인시 수지구 풍덕천동 712-2</td>\n",
       "      <td>414653205024</td>\n",
       "      <td>경기도 용인시 수지구 문정로</td>\n",
       "      <td>32</td>\n",
       "      <td>4146510100107120002026238</td>\n",
       "      <td>경기도 용인시 수지구 문정로 32</td>\n",
       "      <td>448170.0</td>\n",
       "      <td>16837.0</td>\n",
       "      <td>127.095522</td>\n",
       "      <td>37.323528</td>\n",
       "    </tr>\n",
       "    <tr>\n",
       "      <th>6</th>\n",
       "      <td>20733252</td>\n",
       "      <td>춘산한약방</td>\n",
       "      <td>S</td>\n",
       "      <td>의료</td>\n",
       "      <td>S02</td>\n",
       "      <td>약국/한약방</td>\n",
       "      <td>S02A02</td>\n",
       "      <td>한약방</td>\n",
       "      <td>강원도</td>\n",
       "      <td>42110.0</td>\n",
       "      <td>...</td>\n",
       "      <td>강원도 춘천시 중앙로2가 99</td>\n",
       "      <td>421104454113</td>\n",
       "      <td>강원도 춘천시 낙원길</td>\n",
       "      <td>50</td>\n",
       "      <td>4211010500101000000023668</td>\n",
       "      <td>강원도 춘천시 낙원길 50</td>\n",
       "      <td>200042.0</td>\n",
       "      <td>24273.0</td>\n",
       "      <td>127.726905</td>\n",
       "      <td>37.880504</td>\n",
       "    </tr>\n",
       "    <tr>\n",
       "      <th>7</th>\n",
       "      <td>20582210</td>\n",
       "      <td>부부탕제원</td>\n",
       "      <td>S</td>\n",
       "      <td>의료</td>\n",
       "      <td>S02</td>\n",
       "      <td>약국/한약방</td>\n",
       "      <td>S02A03</td>\n",
       "      <td>탕제원</td>\n",
       "      <td>충청북도</td>\n",
       "      <td>43111.0</td>\n",
       "      <td>...</td>\n",
       "      <td>충청북도 청주시 상당구 금천동 187-17</td>\n",
       "      <td>431114508623</td>\n",
       "      <td>충청북도 청주시 상당구 중고개로337번길</td>\n",
       "      <td>134</td>\n",
       "      <td>4311112000101870017042942</td>\n",
       "      <td>충청북도 청주시 상당구 중고개로337번길 134</td>\n",
       "      <td>360802.0</td>\n",
       "      <td>28726.0</td>\n",
       "      <td>127.499206</td>\n",
       "      <td>36.625355</td>\n",
       "    </tr>\n",
       "  </tbody>\n",
       "</table>\n",
       "<p>3 rows × 29 columns</p>\n",
       "</div>"
      ],
      "text/plain": [
       "     상가업소번호        상호명 상권업종대분류코드 상권업종대분류명 상권업종중분류코드 상권업종중분류명 상권업종소분류코드  \\\n",
       "4  20364049  더블유스토어수지점         S       의료       S02   약국/한약방    S02A01   \n",
       "6  20733252      춘산한약방         S       의료       S02   약국/한약방    S02A02   \n",
       "7  20582210      부부탕제원         S       의료       S02   약국/한약방    S02A03   \n",
       "\n",
       "  상권업종소분류명   시도명    시군구코드  ...                     지번주소         도로명코드  \\\n",
       "4       약국   경기도  41465.0  ...   경기도 용인시 수지구 풍덕천동 712-2  414653205024   \n",
       "6      한약방   강원도  42110.0  ...         강원도 춘천시 중앙로2가 99  421104454113   \n",
       "7      탕제원  충청북도  43111.0  ...  충청북도 청주시 상당구 금천동 187-17  431114508623   \n",
       "\n",
       "                      도로명  건물본번지                     건물관리번호  \\\n",
       "4         경기도 용인시 수지구 문정로     32  4146510100107120002026238   \n",
       "6             강원도 춘천시 낙원길     50  4211010500101000000023668   \n",
       "7  충청북도 청주시 상당구 중고개로337번길    134  4311112000101870017042942   \n",
       "\n",
       "                        도로명주소     구우편번호    신우편번호          경도         위도  \n",
       "4          경기도 용인시 수지구 문정로 32  448170.0  16837.0  127.095522  37.323528  \n",
       "6              강원도 춘천시 낙원길 50  200042.0  24273.0  127.726905  37.880504  \n",
       "7  충청북도 청주시 상당구 중고개로337번길 134  360802.0  28726.0  127.499206  36.625355  \n",
       "\n",
       "[3 rows x 29 columns]"
      ]
     },
     "execution_count": 74,
     "metadata": {},
     "output_type": "execute_result"
    }
   ],
   "source": [
    "# df에서 \"상권업종중분류명\"이 \"약국/한약방\"인 데이터만 가져옵니다.\n",
    "# df[\"상권업종중분류명\"] == \"약국/한약방\"에 df[]을 덮어쓰면 해당 조건에 True인 데이터만 가져옵니다.\n",
    "\n",
    "\n",
    "df_medical = df[df[\"상권업종중분류명\"] == \"약국/한약방\"]\n",
    "df_medical.head(3)"
   ]
  },
  {
   "cell_type": "code",
   "execution_count": 77,
   "metadata": {},
   "outputs": [],
   "source": [
    "# 다른 목적으로 사용한다면 copy()를 해야 warning이 뜨지 않거나 원본에 영향을 미치지 않습니다. \n",
    "# 그리고 이 데이터를 df_medical이라는 변수에 넣습니다.\n",
    "\n",
    "df_medical = df[df[\"상권업종중분류명\"] == \"약국/한약방\"].copy()\n"
   ]
  },
  {
   "cell_type": "code",
   "execution_count": 78,
   "metadata": {
    "id": "-i5NprG0vkaC",
    "outputId": "208d3cab-46c9-41c9-9870-ce26bf0ef1e4"
   },
   "outputs": [],
   "source": [
    "# \"상권업종대분류명\" 에서 \"의료\"만 가져옵니다.\n",
    "\n",
    "shop_type = df[\"상권업종대분류명\"] == \"의료\""
   ]
  },
  {
   "cell_type": "code",
   "execution_count": 79,
   "metadata": {},
   "outputs": [
    {
     "data": {
      "text/plain": [
       "병원          60774\n",
       "약국/한약방      20923\n",
       "수의업          5323\n",
       "유사의료업        3774\n",
       "의료관련서비스업      541\n",
       "Name: 상권업종중분류명, dtype: int64"
      ]
     },
     "execution_count": 79,
     "metadata": {},
     "output_type": "execute_result"
    }
   ],
   "source": [
    "# df.loc를 사용하면 행,열을 함께 가져올 수 있습니다.\n",
    "# 이 기능을 통해 \"상권업종중분류명\" 만 가져옵니다. \n",
    "# 그리고 가져온 결과를 value_counts 를 통해 중분류의 갯수를 세어봅니다.\n",
    "\n",
    "\n",
    "df.loc[shop_type, \"상권업종중분류명\"].value_counts()"
   ]
  },
  {
   "cell_type": "code",
   "execution_count": null,
   "metadata": {
    "id": "5MhnDh2VvkaC"
   },
   "outputs": [],
   "source": [
    "# 위와 똑같은 기능을 수행하는 코드입니다. 아래와 같이 한 줄에 표현할 수도 있습니다. \n",
    "# df.loc[df[\"상권업종대분류명\"] == \"의료\", \"상권업종중분류명\"].value_counts()"
   ]
  },
  {
   "cell_type": "code",
   "execution_count": 80,
   "metadata": {
    "id": "uEXQ-3UevkaC",
    "outputId": "969a6b00-c2db-4e06-a0c3-9fe261ab6cfe"
   },
   "outputs": [
    {
     "data": {
      "text/plain": [
       "(3774, 29)"
      ]
     },
     "execution_count": 80,
     "metadata": {},
     "output_type": "execute_result"
    }
   ],
   "source": [
    "# 유사의료업만 따로 모아봅니다.\n",
    "df_medi = df[df[\"상권업종중분류명\"] == \"유사의료업\"]\n",
    "df_medi.shape"
   ]
  },
  {
   "cell_type": "code",
   "execution_count": 81,
   "metadata": {
    "id": "IT8KoNK-vkaC",
    "outputId": "92cd92f9-ab4c-4397-beb5-fe08f585e20a"
   },
   "outputs": [
    {
     "data": {
      "text/plain": [
       "리원       152\n",
       "온누리약국    149\n",
       "경희한의원    141\n",
       "우리약국     119\n",
       "중앙약국     111\n",
       "전자담배      98\n",
       "조은약국      95\n",
       "건강약국      87\n",
       "제일약국      79\n",
       "사랑약국      73\n",
       "Name: 상호명, dtype: int64"
      ]
     },
     "execution_count": 81,
     "metadata": {},
     "output_type": "execute_result"
    }
   ],
   "source": [
    "# 상호명을 그룹화해서 갯수를 세어봅니다.\n",
    "# value_counts 를 사용해서 상위 10개를 출력합니다.\n",
    "df[\"상호명\"].value_counts().head(10)"
   ]
  },
  {
   "cell_type": "code",
   "execution_count": 82,
   "metadata": {
    "id": "n6T07xULvkaD",
    "outputId": "46808cb4-6881-4b2e-d4c5-bc84324cafcc"
   },
   "outputs": [
    {
     "data": {
      "text/plain": [
       "리원           32\n",
       "고려수지침        22\n",
       "대한적십자사       17\n",
       "헌혈의집         12\n",
       "수치과기공소       10\n",
       "고려수지침학회      10\n",
       "제일치과기공소       9\n",
       "미소치과기공소       8\n",
       "스마일치과기공소      8\n",
       "대한응급환자이송단     8\n",
       "Name: 상호명, dtype: int64"
      ]
     },
     "execution_count": 82,
     "metadata": {},
     "output_type": "execute_result"
    }
   ],
   "source": [
    "# 유사의료업만 df_medi 변수에 담겨져 있습니다.\n",
    "# df_medi 변수에서 상호명으로 갯수를 세어봅니다. \n",
    "# 가장 많은 상호 상위 10개를 출력해 봅니다.\n",
    "df_medi[\"상호명\"].value_counts().head(10)"
   ]
  },
  {
   "cell_type": "markdown",
   "metadata": {
    "id": "CtBWRgWCvkaD"
   },
   "source": [
    "### 여러 조건으로 색인하기"
   ]
  },
  {
   "cell_type": "code",
   "execution_count": 83,
   "metadata": {
    "id": "GNeR3rTEvkaD",
    "outputId": "d732fd82-54ae-465a-aac0-ee69c27d7e4a"
   },
   "outputs": [
    {
     "data": {
      "text/html": [
       "<div>\n",
       "<style scoped>\n",
       "    .dataframe tbody tr th:only-of-type {\n",
       "        vertical-align: middle;\n",
       "    }\n",
       "\n",
       "    .dataframe tbody tr th {\n",
       "        vertical-align: top;\n",
       "    }\n",
       "\n",
       "    .dataframe thead th {\n",
       "        text-align: right;\n",
       "    }\n",
       "</style>\n",
       "<table border=\"1\" class=\"dataframe\">\n",
       "  <thead>\n",
       "    <tr style=\"text-align: right;\">\n",
       "      <th></th>\n",
       "      <th>상가업소번호</th>\n",
       "      <th>상호명</th>\n",
       "      <th>상권업종대분류코드</th>\n",
       "      <th>상권업종대분류명</th>\n",
       "      <th>상권업종중분류코드</th>\n",
       "      <th>상권업종중분류명</th>\n",
       "      <th>상권업종소분류코드</th>\n",
       "      <th>상권업종소분류명</th>\n",
       "      <th>시도명</th>\n",
       "      <th>시군구코드</th>\n",
       "      <th>...</th>\n",
       "      <th>지번주소</th>\n",
       "      <th>도로명코드</th>\n",
       "      <th>도로명</th>\n",
       "      <th>건물본번지</th>\n",
       "      <th>건물관리번호</th>\n",
       "      <th>도로명주소</th>\n",
       "      <th>구우편번호</th>\n",
       "      <th>신우편번호</th>\n",
       "      <th>경도</th>\n",
       "      <th>위도</th>\n",
       "    </tr>\n",
       "  </thead>\n",
       "  <tbody>\n",
       "    <tr>\n",
       "      <th>33</th>\n",
       "      <td>20816709</td>\n",
       "      <td>이즈타워약</td>\n",
       "      <td>S</td>\n",
       "      <td>의료</td>\n",
       "      <td>S02</td>\n",
       "      <td>약국/한약방</td>\n",
       "      <td>S02A01</td>\n",
       "      <td>약국</td>\n",
       "      <td>서울특별시</td>\n",
       "      <td>11680.0</td>\n",
       "      <td>...</td>\n",
       "      <td>서울특별시 강남구 역삼동 821</td>\n",
       "      <td>116803122010</td>\n",
       "      <td>서울특별시 강남구 테헤란로</td>\n",
       "      <td>101</td>\n",
       "      <td>1168010100108210001000001</td>\n",
       "      <td>서울특별시 강남구 테헤란로 101</td>\n",
       "      <td>135080.0</td>\n",
       "      <td>6134.0</td>\n",
       "      <td>127.028023</td>\n",
       "      <td>37.498656</td>\n",
       "    </tr>\n",
       "  </tbody>\n",
       "</table>\n",
       "<p>1 rows × 29 columns</p>\n",
       "</div>"
      ],
      "text/plain": [
       "      상가업소번호    상호명 상권업종대분류코드 상권업종대분류명 상권업종중분류코드 상권업종중분류명 상권업종소분류코드 상권업종소분류명  \\\n",
       "33  20816709  이즈타워약         S       의료       S02   약국/한약방    S02A01       약국   \n",
       "\n",
       "      시도명    시군구코드  ...               지번주소         도로명코드             도로명  \\\n",
       "33  서울특별시  11680.0  ...  서울특별시 강남구 역삼동 821  116803122010  서울특별시 강남구 테헤란로   \n",
       "\n",
       "    건물본번지                     건물관리번호               도로명주소     구우편번호   신우편번호  \\\n",
       "33    101  1168010100108210001000001  서울특별시 강남구 테헤란로 101  135080.0  6134.0   \n",
       "\n",
       "            경도         위도  \n",
       "33  127.028023  37.498656  \n",
       "\n",
       "[1 rows x 29 columns]"
      ]
     },
     "execution_count": 83,
     "metadata": {},
     "output_type": "execute_result"
    }
   ],
   "source": [
    "# \"상권업종소분류명\"이 \"약국\" 인 것과\n",
    "# \"시도명\" 이 \"서울특별시\"인 데이터만 가져옵니다.\n",
    "df_seoul_drug = df[\n",
    "    (df[\"상권업종소분류명\"] == \"약국\") & \n",
    "    (df[\"시도명\"]== \"서울특별시\")]\n",
    "df_seoul_drug.head(1)"
   ]
  },
  {
   "cell_type": "markdown",
   "metadata": {
    "id": "gqP1j8cxvkaD"
   },
   "source": [
    "### 구별로 보기"
   ]
  },
  {
   "cell_type": "code",
   "execution_count": 84,
   "metadata": {
    "id": "UpFGw3davkaD",
    "outputId": "c9ea9dcb-79a1-48fb-c9ae-7e2264a4f630"
   },
   "outputs": [
    {
     "data": {
      "text/plain": [
       "강남구     374\n",
       "동대문구    261\n",
       "광진구     212\n",
       "서초구     191\n",
       "송파구     188\n",
       "노원구     169\n",
       "성북구     160\n",
       "은평구     151\n",
       "영등포구    145\n",
       "마포구     136\n",
       "강서구     136\n",
       "중랑구     129\n",
       "서대문구    120\n",
       "관악구     118\n",
       "강동구     117\n",
       "종로구     111\n",
       "양천구     109\n",
       "중구      106\n",
       "강북구     104\n",
       "구로구     102\n",
       "동작구      96\n",
       "성동구      88\n",
       "용산구      87\n",
       "금천구      85\n",
       "도봉구      84\n",
       "Name: 시군구명, dtype: int64"
      ]
     },
     "execution_count": 84,
     "metadata": {},
     "output_type": "execute_result"
    }
   ],
   "source": [
    "# 위에서 색인한 데이터로 \"시군구명\"으로 그룹화 해서 갯수를 세어봅니다.\n",
    "# 구별로 약국이 몇개가 있는지 확인해 봅니다.\n",
    "df_seoul_drug[\"시군구명\"].value_counts()"
   ]
  },
  {
   "cell_type": "code",
   "execution_count": 85,
   "metadata": {
    "id": "UAIwVhRhvkaD",
    "outputId": "12c98603-b212-40d1-9c7d-cb7cd070d825"
   },
   "outputs": [
    {
     "data": {
      "text/plain": [
       "강남구     0.104498\n",
       "동대문구    0.072925\n",
       "광진구     0.059234\n",
       "서초구     0.053367\n",
       "송파구     0.052529\n",
       "노원구     0.047220\n",
       "성북구     0.044705\n",
       "은평구     0.042191\n",
       "영등포구    0.040514\n",
       "마포구     0.037999\n",
       "강서구     0.037999\n",
       "중랑구     0.036044\n",
       "서대문구    0.033529\n",
       "관악구     0.032970\n",
       "강동구     0.032691\n",
       "종로구     0.031014\n",
       "양천구     0.030455\n",
       "중구      0.029617\n",
       "강북구     0.029058\n",
       "구로구     0.028500\n",
       "동작구     0.026823\n",
       "성동구     0.024588\n",
       "용산구     0.024308\n",
       "금천구     0.023750\n",
       "도봉구     0.023470\n",
       "Name: 시군구명, dtype: float64"
      ]
     },
     "execution_count": 85,
     "metadata": {},
     "output_type": "execute_result"
    }
   ],
   "source": [
    "# normalize=True 를 통해 비율을 구해봅니다.\n",
    "df_seoul_drug[\"시군구명\"].value_counts(normalize=True)"
   ]
  },
  {
   "cell_type": "code",
   "execution_count": 86,
   "metadata": {
    "id": "hXibOv7TvkaD",
    "outputId": "ed24d59d-d415-46e5-8880-29c73784597c"
   },
   "outputs": [
    {
     "data": {
      "text/plain": [
       "<AxesSubplot:>"
      ]
     },
     "execution_count": 86,
     "metadata": {},
     "output_type": "execute_result"
    },
    {
     "data": {
      "image/png": "[encoded data removed]",
      "text/plain": [
       "<Figure size 432x288 with 1 Axes>"
      ]
     },
     "metadata": {
      "image/png": {
       "height": 278,
       "width": 376
      },
      "needs_background": "light"
     },
     "output_type": "display_data"
    }
   ],
   "source": [
    "# 위에서 구한 결과를 판다스의 plot.bar()를 활용해 막대그래프로 그립니다.\n",
    "df_seoul_drug[\"시군구명\"].value_counts().plot.bar()"
   ]
  },
  {
   "cell_type": "code",
   "execution_count": 87,
   "metadata": {
    "id": "aXC5P9z2vkaD",
    "outputId": "a38916fd-13b4-4026-bfe5-42f4c9bac5fe"
   },
   "outputs": [
    {
     "data": {
      "text/html": [
       "<div>\n",
       "<style scoped>\n",
       "    .dataframe tbody tr th:only-of-type {\n",
       "        vertical-align: middle;\n",
       "    }\n",
       "\n",
       "    .dataframe tbody tr th {\n",
       "        vertical-align: top;\n",
       "    }\n",
       "\n",
       "    .dataframe thead th {\n",
       "        text-align: right;\n",
       "    }\n",
       "</style>\n",
       "<table border=\"1\" class=\"dataframe\">\n",
       "  <thead>\n",
       "    <tr style=\"text-align: right;\">\n",
       "      <th></th>\n",
       "      <th>상가업소번호</th>\n",
       "      <th>상호명</th>\n",
       "      <th>상권업종대분류코드</th>\n",
       "      <th>상권업종대분류명</th>\n",
       "      <th>상권업종중분류코드</th>\n",
       "      <th>상권업종중분류명</th>\n",
       "      <th>상권업종소분류코드</th>\n",
       "      <th>상권업종소분류명</th>\n",
       "      <th>시도명</th>\n",
       "      <th>시군구코드</th>\n",
       "      <th>...</th>\n",
       "      <th>지번주소</th>\n",
       "      <th>도로명코드</th>\n",
       "      <th>도로명</th>\n",
       "      <th>건물본번지</th>\n",
       "      <th>건물관리번호</th>\n",
       "      <th>도로명주소</th>\n",
       "      <th>구우편번호</th>\n",
       "      <th>신우편번호</th>\n",
       "      <th>경도</th>\n",
       "      <th>위도</th>\n",
       "    </tr>\n",
       "  </thead>\n",
       "  <tbody>\n",
       "    <tr>\n",
       "      <th>305</th>\n",
       "      <td>25155642</td>\n",
       "      <td>대진의료재단</td>\n",
       "      <td>S</td>\n",
       "      <td>의료</td>\n",
       "      <td>S01</td>\n",
       "      <td>병원</td>\n",
       "      <td>S01B01</td>\n",
       "      <td>종합병원</td>\n",
       "      <td>서울특별시</td>\n",
       "      <td>11215.0</td>\n",
       "      <td>...</td>\n",
       "      <td>서울특별시 광진구 중곡동 58-25</td>\n",
       "      <td>112153104006</td>\n",
       "      <td>서울특별시 광진구 긴고랑로</td>\n",
       "      <td>119</td>\n",
       "      <td>1121510100100580025000733</td>\n",
       "      <td>서울특별시 광진구 긴고랑로 119</td>\n",
       "      <td>143220.0</td>\n",
       "      <td>4944.0</td>\n",
       "      <td>127.088279</td>\n",
       "      <td>37.559048</td>\n",
       "    </tr>\n",
       "  </tbody>\n",
       "</table>\n",
       "<p>1 rows × 29 columns</p>\n",
       "</div>"
      ],
      "text/plain": [
       "       상가업소번호     상호명 상권업종대분류코드 상권업종대분류명 상권업종중분류코드 상권업종중분류명 상권업종소분류코드  \\\n",
       "305  25155642  대진의료재단         S       의료       S01       병원    S01B01   \n",
       "\n",
       "    상권업종소분류명    시도명    시군구코드  ...                 지번주소         도로명코드  \\\n",
       "305     종합병원  서울특별시  11215.0  ...  서울특별시 광진구 중곡동 58-25  112153104006   \n",
       "\n",
       "                도로명  건물본번지                     건물관리번호               도로명주소  \\\n",
       "305  서울특별시 광진구 긴고랑로    119  1121510100100580025000733  서울특별시 광진구 긴고랑로 119   \n",
       "\n",
       "        구우편번호   신우편번호          경도         위도  \n",
       "305  143220.0  4944.0  127.088279  37.559048  \n",
       "\n",
       "[1 rows x 29 columns]"
      ]
     },
     "execution_count": 87,
     "metadata": {},
     "output_type": "execute_result"
    }
   ],
   "source": [
    "# \"상권업종소분류명\"이 \"종합병원\" 인 것과\n",
    "# \"시도명\" 이 \"서울특별시\"인 데이터만 가져옵니다.\n",
    "df_seoul_hospital = df[\n",
    "    (df[\"상권업종소분류명\"] == \"종합병원\") & \n",
    "    (df[\"시도명\"]== \"서울특별시\")]\n",
    "df_seoul_hospital.head(1)"
   ]
  },
  {
   "cell_type": "code",
   "execution_count": 88,
   "metadata": {
    "id": "D3RF5DGavkaE",
    "outputId": "659de09b-7334-411b-b4df-c7026647cbd7"
   },
   "outputs": [
    {
     "data": {
      "text/plain": [
       "강남구     15\n",
       "영등포구     8\n",
       "서초구      6\n",
       "광진구      6\n",
       "송파구      5\n",
       "중구       5\n",
       "강동구      5\n",
       "서대문구     4\n",
       "강북구      4\n",
       "도봉구      4\n",
       "양천구      4\n",
       "성북구      3\n",
       "강서구      2\n",
       "동대문구     2\n",
       "구로구      2\n",
       "금천구      2\n",
       "노원구      2\n",
       "성동구      2\n",
       "관악구      2\n",
       "중랑구      2\n",
       "종로구      2\n",
       "동작구      1\n",
       "마포구      1\n",
       "용산구      1\n",
       "은평구      1\n",
       "Name: 시군구명, dtype: int64"
      ]
     },
     "execution_count": 88,
     "metadata": {},
     "output_type": "execute_result"
    }
   ],
   "source": [
    "# \"시군구명\" 으로 그룹화 해서 구별로 종합병원의 수를 세어봅니다.\n",
    "df_seoul_hospital[\"시군구명\"].value_counts()"
   ]
  },
  {
   "cell_type": "markdown",
   "metadata": {
    "id": "BIffxq5EvkaE"
   },
   "source": [
    "### 텍스트 데이터 색인하기"
   ]
  },
  {
   "cell_type": "code",
   "execution_count": null,
   "metadata": {
    "id": "tSx47zHqvkaE",
    "outputId": "44b67b78-d6fc-4d1c-826b-39e5d040b441"
   },
   "outputs": [],
   "source": [
    "# str.contains 를 사용해서 \"상호명\"에 \"대학병원\"이 들어가는 것을 가져와서 head()로 미리보기 합니다.\n",
    "df[df[\"상호명\"].str.contains(\"대학병원\")].head(1)"
   ]
  },
  {
   "cell_type": "code",
   "execution_count": null,
   "metadata": {
    "id": "Hx9BsGz9vkaE",
    "outputId": "fe9c20a0-6a71-4bfc-a716-c099d84596df"
   },
   "outputs": [],
   "source": [
    "# str.startswith 를 사용해 \"서울\"로 시작하는 도로명주소를 가져와서 head()로 미리보기 합니다.\n",
    "df[df[\"도로명주소\"].str.startswith(\"서울\")].head(1)"
   ]
  },
  {
   "cell_type": "code",
   "execution_count": null,
   "metadata": {
    "id": "lM1md8DsvkaE",
    "outputId": "8644c35b-e4e2-42b8-ef88-4713a3c2eece"
   },
   "outputs": [],
   "source": [
    "# str.endswith를 사용해서 \"상호명\"이 \"병원\"으로 끝나는 데이터를 가져와서 head()로 미리보기 합니다.\n",
    "df[df[\"상호명\"].str.endswith(\"병원\")].head(1)"
   ]
  },
  {
   "cell_type": "markdown",
   "metadata": {
    "id": "KCS6GL_-vkaE"
   },
   "source": [
    "### 특정 지역만 보기"
   ]
  },
  {
   "cell_type": "code",
   "execution_count": null,
   "metadata": {
    "id": "MBOBLN7mvkaE",
    "outputId": "def8a947-2941-4093-8167-0871c6eae9ea",
    "scrolled": true
   },
   "outputs": [],
   "source": [
    "# 서울에 있는 데이터의 위도와 경도를 봅니다.\n",
    "# 결과를 df_seoul 이라는 데이터프레임에 저장합니다.\n",
    "# 새로운 변수에 데이터프레임을 저장시 copy()를 사용합니다.\n",
    "df_seoul = df[df[\"시도명\"] == \"서울특별시\"].copy()\n",
    "df_seoul.shape"
   ]
  },
  {
   "cell_type": "code",
   "execution_count": null,
   "metadata": {
    "id": "A8wlKmNfvkaE",
    "outputId": "eb9e1682-0fe4-4b42-b44a-d71e1d5fbe1a"
   },
   "outputs": [],
   "source": [
    "# seaborn 의 countplot 을 사용해서 위에서 만든 df_seoul 데이터프레임의\n",
    "# 시군구명을 시각화 합니다.\n",
    "plt.figure(figsize=(9, 6))\n",
    "sns.countplot(data=df_seoul, y=\"시군구명\")"
   ]
  },
  {
   "cell_type": "code",
   "execution_count": null,
   "metadata": {
    "id": "GbYPpbVkvkaE",
    "outputId": "63358565-7d99-43b5-b625-e281a4fabd47"
   },
   "outputs": [],
   "source": [
    "# Pandas 의 plot.scatter 를 통해 경도와 위도를 표시해 봅니다.\n",
    "df_seoul[[\"경도\", \"위도\", \"시군구명\"]].plot.scatter(\n",
    "    x=\"경도\", y=\"위도\", figsize=(9, 7), grid=True)"
   ]
  },
  {
   "cell_type": "code",
   "execution_count": null,
   "metadata": {
    "id": "u5G_RG-BvkaF",
    "outputId": "4d2a24a2-eb36-4f29-f3c1-e322af9fa9a4",
    "scrolled": false
   },
   "outputs": [],
   "source": [
    "# seaborn의 scatterplot 을 통해 구별 경도와 위도를 표시해 봅니다.\n",
    "plt.figure(figsize=(16, 12))\n",
    "sns.scatterplot(data=df_seoul, \n",
    "                x='경도', y='위도', hue='시군구명')"
   ]
  },
  {
   "cell_type": "code",
   "execution_count": null,
   "metadata": {
    "id": "KPvhEhkpvkaF",
    "outputId": "67b3931f-4a75-4975-f0b7-c2cd04264b70"
   },
   "outputs": [],
   "source": [
    "# seaborn의 scatterplot 을 통해 \"상권업종중분류명\" 경도와 위도를 표시해 봅니다.\n",
    "plt.figure(figsize=(16, 12))\n",
    "sns.scatterplot(data=df_seoul, \n",
    "                x='경도', y='위도', hue=\"상권업종중분류명\")"
   ]
  },
  {
   "cell_type": "code",
   "execution_count": null,
   "metadata": {
    "id": "O0ZiGQt6vkaF",
    "outputId": "4eb557a5-23e2-4b26-f651-538fc3df2118",
    "scrolled": true
   },
   "outputs": [],
   "source": [
    "# seaborn의 scatterplot 을 통해 전국 데이터(df)로 구별 경도와 위도를 표시해 봅니다.\n",
    "plt.figure(figsize=(16, 12))\n",
    "sns.scatterplot(data=df[:10000], \n",
    "                x='경도', y='위도', hue='시군구명')"
   ]
  },
  {
   "cell_type": "markdown",
   "metadata": {
    "id": "x7vny5cbvkaF"
   },
   "source": [
    "\n",
    "## Folium 으로 지도 활용하기\n",
    "* 다음의 프롬프트 창을 열어 conda 명령어로 설치합니다.\n",
    "<img src=\"https://t1.daumcdn.net/cfile/tistory/99576B4A5B751DC902\">\n",
    "\n",
    "검은색 프롬프트 창에 아래 명령어를 통해 folium 을 설치합니다.\n",
    "\n",
    "\n",
    "`conda install -c conda-forge folium`\n",
    "\n",
    "### Folium 사용예제\n",
    "http://nbviewer.jupyter.org/github/python-visualization/folium/tree/master/examples/\n"
   ]
  },
  {
   "cell_type": "code",
   "execution_count": null,
   "metadata": {
    "id": "xB1Yqz_GvkaF"
   },
   "outputs": [],
   "source": [
    "# 아나콘다에서 folium 을 사용하기 위해서는 별도의 설치가 필요\n",
    "# https://anaconda.org/conda-forge/folium\n",
    "# conda install -c conda-forge folium \n",
    "# 지도 시각화를 위한 라이브러리\n",
    "import folium"
   ]
  },
  {
   "cell_type": "code",
   "execution_count": null,
   "metadata": {
    "id": "eOhhk1WyvkaF"
   },
   "outputs": [],
   "source": [
    "# geo_df 에 df_seoul_hospital 을 copy() 로 복사해서 할당합니다.\n",
    "geo_df = df_seoul_hospital.copy()"
   ]
  },
  {
   "cell_type": "code",
   "execution_count": null,
   "metadata": {
    "id": "JwYDpOi3vkaF",
    "outputId": "7e7c1506-003d-419c-a8d2-25cc4dbd8db5"
   },
   "outputs": [],
   "source": [
    "# 지도의 중심을 지정하기 위해 위도와 경도의 평균을 구합니다. \n",
    "map = folium.Map(location=[geo_df['위도'].mean(), geo_df['경도'].mean()], \n",
    "                 zoom_start=12)\n",
    "\n",
    "for n in geo_df.index:\n",
    "    # 팝업에 들어갈 텍스트를 지정해 줍니다.\n",
    "    # 상호명과 주소를 붙여서 출력되도록 합니다.\n",
    "    popup_name = geo_df.loc[n, '상호명'] + ' - ' + geo_df.loc[n, '도로명주소']\n",
    "    \n",
    "    folium.Marker(\n",
    "        location=[geo_df.loc[n,'위도'], geo_df.loc[n, '경도']],\n",
    "        popup=popup_name\n",
    "    ).add_to(map)\n",
    "\n",
    "\n",
    "map"
   ]
  },
  {
   "cell_type": "markdown",
   "metadata": {
    "id": "NiTmUcstvkaF"
   },
   "source": [
    "## 자율주제(과제)\n",
    "* 자율주제로 분석 후에 토요일 수업에서 발표를 할 예정입니다.(09:00~10:00)\n",
    "* 상권업종중분류명, 상권업종소분류명 중에 관심 있는 분류명을 색인 후에 시도별, 시군구별 분석을 해보세요.\n",
    "* 예시) \n",
    "    * 언어치료는 시군구별로 어디에 많이 위치할까?\n",
    "    * 의료시설은 서울과 강남에 집중되어 있을까?\n",
    "    * 강남에는 피부과, 성형외과가 다른 지역에 비해 많을까?"
   ]
  },
  {
   "cell_type": "code",
   "execution_count": null,
   "metadata": {
    "id": "DaNxUJABvkaG"
   },
   "outputs": [],
   "source": []
  },
  {
   "cell_type": "code",
   "execution_count": null,
   "metadata": {
    "id": "7vdyorZFvkaG"
   },
   "outputs": [],
   "source": []
  }
 ],
 "metadata": {
  "colab": {
   "name": "open-data-analysis-output.ipynb",
   "provenance": []
  },
  "hide_input": false,
  "kernelspec": {
   "display_name": "Python 3",
   "language": "python",
   "name": "python3"
  },
  "language_info": {
   "codemirror_mode": {
    "name": "ipython",
    "version": 3
   },
   "file_extension": ".py",
   "mimetype": "text/x-python",
   "name": "python",
   "nbconvert_exporter": "python",
   "pygments_lexer": "ipython3",
   "version": "3.8.5"
  },
  "toc": {
   "base_numbering": 1,
   "nav_menu": {},
   "number_sections": true,
   "sideBar": true,
   "skip_h1_title": false,
   "title_cell": "Table of Contents",
   "title_sidebar": "Contents",
   "toc_cell": false,
   "toc_position": {
    "height": "518px",
    "left": "105px",
    "top": "571px",
    "width": "171px"
   },
   "toc_section_display": true,
   "toc_window_display": true
  },
  "varInspector": {
   "cols": {
    "lenName": 16,
    "lenType": 16,
    "lenVar": 40
   },
   "kernels_config": {
    "python": {
     "delete_cmd_postfix": "",
     "delete_cmd_prefix": "del ",
     "library": "var_list.py",
     "varRefreshCmd": "print(var_dic_list())"
    },
    "r": {
     "delete_cmd_postfix": ") ",
     "delete_cmd_prefix": "rm(",
     "library": "var_list.r",
     "varRefreshCmd": "cat(var_dic_list()) "
    }
   },
   "types_to_exclude": [
    "module",
    "function",
    "builtin_function_or_method",
    "instance",
    "_Feature"
   ],
   "window_display": false
  }
 },
 "nbformat": 4,
 "nbformat_minor": 1
}
